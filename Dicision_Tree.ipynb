{
  "nbformat": 4,
  "nbformat_minor": 0,
  "metadata": {
    "colab": {
      "provenance": [],
      "authorship_tag": "ABX9TyO6D7+2opRQMUGGyueNcfBK"
    },
    "kernelspec": {
      "name": "python3",
      "display_name": "Python 3"
    },
    "language_info": {
      "name": "python"
    }
  },
  "cells": [
    {
      "cell_type": "markdown",
      "source": [
        "# EXAM BONUS PROBLEM\n",
        "## Submitted by:\n",
        "## Aaditya Neupane - 22209307\n",
        "## Oween Cesar Barranzuela Carrasco - 22302013\n",
        "\n"
      ],
      "metadata": {
        "id": "XIjv4b_XFNXP"
      }
    },
    {
      "cell_type": "markdown",
      "source": [
        "# Importing Libraries"
      ],
      "metadata": {
        "id": "703AM_WsiA2t"
      }
    },
    {
      "cell_type": "code",
      "execution_count": null,
      "metadata": {
        "id": "BJe9CjC2J-9f"
      },
      "outputs": [],
      "source": [
        "import math\n",
        "from collections import Counter"
      ]
    },
    {
      "cell_type": "markdown",
      "source": [],
      "metadata": {
        "id": "RO3p6EiWk07_"
      }
    },
    {
      "cell_type": "markdown",
      "source": [
        "# Training Set\n",
        "#### Lecture location decision is based on the Weather conditions"
      ],
      "metadata": {
        "id": "oCucCQbvk2Uv"
      }
    },
    {
      "cell_type": "code",
      "source": [
        "lecture_data = [\n",
        "    {\"weather\": \"sunny\", \"temperature\": \"hot\", \"humidity\": \"high\", \"wind\": \"weak\", \"lecture_location\": \"in-campus\"},\n",
        "    {\"weather\": \"sunny\", \"temperature\": \"hot\", \"humidity\": \"high\", \"wind\": \"normal\", \"lecture_location\": \"in-campus\"},\n",
        "    {\"weather\": \"overcast\", \"temperature\": \"hot\", \"humidity\": \"high\", \"wind\": \"weak\", \"lecture_location\": \"in-campus\"},\n",
        "    {\"weather\": \"rain\", \"temperature\": \"normal\", \"humidity\": \"high\", \"wind\": \"weak\", \"lecture_location\": \"online\"},\n",
        "    {\"weather\": \"rain\", \"temperature\": \"cold\", \"humidity\": \"normal\", \"wind\": \"weak\", \"lecture_location\": \"online\"},\n",
        "    {\"weather\": \"rain\", \"temperature\": \"cold\", \"humidity\": \"normal\", \"wind\": \"normal\", \"lecture_location\": \"online\"},\n",
        "    {\"weather\": \"overcast\", \"temperature\": \"cold\", \"humidity\": \"normal\", \"wind\": \"normal\", \"lecture_location\": \"in-campus\"},\n",
        "    {\"weather\": \"sunny\", \"temperature\": \"normal\", \"humidity\": \"high\", \"wind\": \"weak\", \"lecture_location\": \"in-campus\"},\n",
        "    {\"weather\": \"sunny\", \"temperature\": \"cold\", \"humidity\": \"normal\", \"wind\": \"weak\", \"lecture_location\": \"in-campus\"},\n",
        "    {\"weather\": \"rain\", \"temperature\": \"normal\", \"humidity\": \"normal\", \"wind\": \"weak\", \"lecture_location\": \"online\"},\n",
        "    {\"weather\": \"sunny\", \"temperature\": \"normal\", \"humidity\": \"normal\", \"wind\": \"normal\", \"lecture_location\": \"in-campus\"},\n",
        "    {\"weather\": \"overcast\", \"temperature\": \"normal\", \"humidity\": \"high\", \"wind\": \"normal\", \"lecture_location\": \"in-campus\"},\n",
        "    {\"weather\": \"overcast\", \"temperature\": \"hot\", \"humidity\": \"normal\", \"wind\": \"weak\", \"lecture_location\": \"in-campus\"},\n",
        "    {\"weather\": \"rain\", \"temperature\": \"normal\", \"humidity\": \"high\", \"wind\": \"normal\", \"lecture_location\": \"online\"},\n",
        "    {\"weather\": \"sunny\", \"temperature\": \"normal\", \"humidity\": \"low\", \"wind\": \"high\", \"lecture_location\": \"online\"},\n",
        "    {\"weather\": \"overcast\", \"temperature\": \"hot\", \"humidity\": \"low\", \"wind\": \"high\", \"lecture_location\": \"online\"},\n",
        "    {\"weather\": \"rain\", \"temperature\": \"cold\", \"humidity\": \"high\", \"wind\": \"high\", \"lecture_location\": \"online\"},\n",
        "]"
      ],
      "metadata": {
        "id": "ytAX-r4hMZ6m"
      },
      "execution_count": null,
      "outputs": []
    },
    {
      "cell_type": "markdown",
      "source": [
        "# dt_learning function based on the given Algorithm (4)"
      ],
      "metadata": {
        "id": "HlNfiKL7sCnz"
      }
    },
    {
      "cell_type": "markdown",
      "source": [
        "#### It builds the decision tree based on the lecture_data"
      ],
      "metadata": {
        "id": "0MH9tPe2tVue"
      }
    },
    {
      "cell_type": "code",
      "source": [
        "def dt_learning(examples, attributes, parent_examples=None):\n",
        "    if not examples:\n",
        "        return most_common_class(parent_examples)\n",
        "    elif all_same_class(examples):\n",
        "        return examples[0][\"lecture_location\"]\n",
        "    elif not attributes:\n",
        "        return most_common_class(examples)\n",
        "    else:\n",
        "        best_feature = find_best_split(attributes, examples)\n",
        "        tree = {\"feature\": best_feature, \"branches\": {}}\n",
        "\n",
        "        # Creating the branch for each best_feature\n",
        "        for value in set(example[best_feature] for example in examples):\n",
        "            matching_examples = [e for e in examples if e[best_feature] == value]\n",
        "            if matching_examples:\n",
        "                subtree = dt_learning(\n",
        "                    matching_examples, attributes - {best_feature}, examples\n",
        "                )\n",
        "                tree[\"branches\"][value] = subtree\n",
        "            else:\n",
        "                tree[\"branches\"][value] = most_common_class(parent_examples)\n",
        "        return tree"
      ],
      "metadata": {
        "id": "ACyUiL6ZOdgB"
      },
      "execution_count": null,
      "outputs": []
    },
    {
      "cell_type": "markdown",
      "source": [
        "# Most common class checker\n",
        "#### returns the most repeated class from examples\n"
      ],
      "metadata": {
        "id": "tbrKVRkNuUOi"
      }
    },
    {
      "cell_type": "code",
      "source": [
        "def most_common_class(examples):\n",
        "    class_counts = Counter(example[\"lecture_location\"] for example in examples)\n",
        "    return class_counts.most_common(1)[0][0]\n"
      ],
      "metadata": {
        "id": "SeYgFLysOidY"
      },
      "execution_count": null,
      "outputs": []
    },
    {
      "cell_type": "markdown",
      "source": [
        "# If all class are same checker\n",
        "#### returns true/false if examples has classification same/not respectively"
      ],
      "metadata": {
        "id": "bb6V-ZWLupqx"
      }
    },
    {
      "cell_type": "code",
      "source": [
        "def all_same_class(examples):\n",
        "    return all(e[\"lecture_location\"] == examples[0][\"lecture_location\"] for e in examples)\n"
      ],
      "metadata": {
        "id": "VP2ullEDOkQR"
      },
      "execution_count": null,
      "outputs": []
    },
    {
      "cell_type": "markdown",
      "source": [
        "# Entropy Calculator\n",
        "#### returns the entropy for the given examples"
      ],
      "metadata": {
        "id": "nxq4o6Wz1mRU"
      }
    },
    {
      "cell_type": "code",
      "source": [
        "def entropy(examples):\n",
        "    class_counts = Counter(example[\"lecture_location\"] for example in examples)\n",
        "    probs = [count / len(examples) for count in class_counts.values()]\n",
        "    return -sum(p * math.log2(p) for p in probs if p > 0)\n"
      ],
      "metadata": {
        "id": "4Bh4QcfAOm2A"
      },
      "execution_count": null,
      "outputs": []
    },
    {
      "cell_type": "markdown",
      "source": [
        "# Information gain function\n",
        "#### It calculates the information gain obtained by splitting attributes"
      ],
      "metadata": {
        "id": "1q7GA5K92FjA"
      }
    },
    {
      "cell_type": "code",
      "source": [
        "def information_gain(feature, examples):\n",
        "    total_entropy = entropy(examples)\n",
        "    value_entropies = [entropy([e for e in examples if e[feature] == v]) for v in set(e[feature] for e in examples)]\n",
        "    weighted_avg_entropy = sum(\n",
        "        len([e for e in examples if e[feature] == v]) / len(examples) * entropy\n",
        "        for v, entropy in zip(set(e[feature] for e in examples), value_entropies)\n",
        "    )\n",
        "    return total_entropy - weighted_avg_entropy\n"
      ],
      "metadata": {
        "id": "w_bJr0LGOoik"
      },
      "execution_count": null,
      "outputs": []
    },
    {
      "cell_type": "markdown",
      "source": [
        "# Finding the best split\n",
        "### it returns the feature with the maxximum information gain"
      ],
      "metadata": {
        "id": "i1wiXUAw3vyS"
      }
    },
    {
      "cell_type": "code",
      "source": [
        "def find_best_split(attributes, examples):\n",
        "    return max(attributes, key=lambda f: information_gain(f, examples))\n"
      ],
      "metadata": {
        "id": "8wjeYn86OqJ8"
      },
      "execution_count": null,
      "outputs": []
    },
    {
      "cell_type": "markdown",
      "source": [
        "# Calssifier for the decision tree\n",
        "#### It classifies a new instace from the user input which uses the decision tree and returns the location"
      ],
      "metadata": {
        "id": "xs0iPSQC9gXB"
      }
    },
    {
      "cell_type": "code",
      "source": [
        "def classify_lecture(tree, instance):\n",
        "    if not isinstance(tree, dict):\n",
        "        return tree\n",
        "    feature = tree[\"feature\"]\n",
        "    value = instance[feature]\n",
        "    subtree = tree[\"branches\"].get(value, None)\n",
        "\n",
        "    # If value doesn't exist in the tree, use the most common class of the parent\n",
        "    if subtree is None:\n",
        "        return most_common_class(lecture_data)\n",
        "    else:\n",
        "        return classify_lecture(subtree, instance)"
      ],
      "metadata": {
        "id": "YlZ0GyPW9S8w"
      },
      "execution_count": null,
      "outputs": []
    },
    {
      "cell_type": "markdown",
      "source": [
        "# Decision tree output\n",
        "\n"
      ],
      "metadata": {
        "id": "EY4f8Zqh4V7t"
      }
    },
    {
      "cell_type": "code",
      "source": [
        "# attributes\n",
        "attributes = {\"weather\", \"temperature\", \"humidity\", \"wind\"}\n",
        "\n",
        "# Decision tree output\n",
        "decision_tree = dt_learning(lecture_data, attributes)\n",
        "print (\"\\n\")\n",
        "print(decision_tree)"
      ],
      "metadata": {
        "colab": {
          "base_uri": "https://localhost:8080/"
        },
        "id": "4GLD12a-KS_x",
        "outputId": "918f5602-c8ef-4bf6-ec28-69d1d2b6645b"
      },
      "execution_count": null,
      "outputs": [
        {
          "output_type": "stream",
          "name": "stdout",
          "text": [
            "\n",
            "\n",
            "{'feature': 'weather', 'branches': {'sunny': {'feature': 'humidity', 'branches': {'normal': 'in-campus', 'high': 'in-campus', 'low': 'online'}}, 'rain': 'online', 'overcast': {'feature': 'humidity', 'branches': {'normal': 'in-campus', 'high': 'in-campus', 'low': 'online'}}}}\n"
          ]
        }
      ]
    },
    {
      "cell_type": "markdown",
      "source": [
        "# Input and Output\n",
        "#### creates a new instance for the userinput the calls the classifier function which returns the location of lecture (online / in-campus)"
      ],
      "metadata": {
        "id": "gpV7SbOfB9WC"
      }
    },
    {
      "cell_type": "markdown",
      "source": [
        "###Test 1"
      ],
      "metadata": {
        "id": "_BApBDMPCmN-"
      }
    },
    {
      "cell_type": "code",
      "source": [
        "#User input\n",
        "weather = input(\"Enter weather (sunny, overcast, rain): \")\n",
        "temperature = input(\"Enter temperature (hot, normal, cold): \")\n",
        "humidity = input(\"Enter humidity (high, normal, low): \")\n",
        "wind = input(\"Enter wind (weak, normal, high): \")\n",
        "\n",
        "new_instance = {\n",
        "    \"weather\": weather,\n",
        "    \"temperature\": temperature,\n",
        "    \"humidity\": humidity,\n",
        "    \"wind\": wind,\n",
        "}\n",
        "# Classifying the lecture location\n",
        "location = classify_lecture(decision_tree, new_instance)\n",
        "print(\"The lecture will be held:\", location)"
      ],
      "metadata": {
        "colab": {
          "base_uri": "https://localhost:8080/"
        },
        "id": "y6OCjYbE8CkM",
        "outputId": "3b15019e-b2d8-483b-ebd2-79d59349813c"
      },
      "execution_count": null,
      "outputs": [
        {
          "output_type": "stream",
          "name": "stdout",
          "text": [
            "Enter weather (sunny, overcast, rain): sunny\n",
            "Enter temperature (hot, normal, cold): hot\n",
            "Enter humidity (high, normal, low): high\n",
            "Enter wind (weak, normal, high): weak\n",
            "The lecture will be held: in-campus\n"
          ]
        }
      ]
    },
    {
      "cell_type": "markdown",
      "source": [
        "### Test 2"
      ],
      "metadata": {
        "id": "CVZ56RS2C5su"
      }
    },
    {
      "cell_type": "code",
      "source": [
        "# Get user input\n",
        "weather = input(\"Enter weather (sunny, overcast, rain): \")\n",
        "temperature = input(\"Enter temperature (hot, normal, cold): \")\n",
        "humidity = input(\"Enter humidity (high, normal, low): \")\n",
        "wind = input(\"Enter wind (weak, normal, high): \")\n",
        "\n",
        "new_instance = {\n",
        "    \"weather\": weather,\n",
        "    \"temperature\": temperature,\n",
        "    \"humidity\": humidity,\n",
        "    \"wind\": wind,\n",
        "}\n",
        "# Classify the lecture location\n",
        "location = classify_lecture(decision_tree, new_instance)\n",
        "print(\"The lecture will be held:\", location)"
      ],
      "metadata": {
        "colab": {
          "base_uri": "https://localhost:8080/"
        },
        "id": "RD7zboOVBDgm",
        "outputId": "49a1d9bc-0f9d-48ba-847c-f1d1bbae9ac5"
      },
      "execution_count": null,
      "outputs": [
        {
          "output_type": "stream",
          "name": "stdout",
          "text": [
            "Enter weather (sunny, overcast, rain): overcast\n",
            "Enter temperature (hot, normal, cold): cold\n",
            "Enter humidity (high, normal, low): low\n",
            "Enter wind (weak, normal, high): high\n",
            "The lecture will be held: online\n"
          ]
        }
      ]
    },
    {
      "cell_type": "markdown",
      "source": [
        "### Test 3"
      ],
      "metadata": {
        "id": "VWNT-hpTDHtk"
      }
    },
    {
      "cell_type": "code",
      "source": [
        "# Get user input\n",
        "weather = input(\"Enter weather (sunny, overcast, rain): \")\n",
        "temperature = input(\"Enter temperature (hot, normal, cold): \")\n",
        "humidity = input(\"Enter humidity (high, normal, low): \")\n",
        "wind = input(\"Enter wind (weak, normal, high): \")\n",
        "\n",
        "new_instance = {\n",
        "    \"weather\": weather,\n",
        "    \"temperature\": temperature,\n",
        "    \"humidity\": humidity,\n",
        "    \"wind\": wind,\n",
        "}\n",
        "# Classify the lecture location\n",
        "location = classify_lecture(decision_tree, new_instance)\n",
        "print(\"The lecture will be held:\", location)"
      ],
      "metadata": {
        "colab": {
          "base_uri": "https://localhost:8080/"
        },
        "id": "gEcJIJ_hC_M2",
        "outputId": "d3079da7-6756-4dda-d684-50faa708650a"
      },
      "execution_count": null,
      "outputs": [
        {
          "output_type": "stream",
          "name": "stdout",
          "text": [
            "Enter weather (sunny, overcast, rain): rain\n",
            "Enter temperature (hot, normal, cold): normal\n",
            "Enter humidity (high, normal, low): high\n",
            "Enter wind (weak, normal, high): weak\n",
            "The lecture will be held: online\n"
          ]
        }
      ]
    }
  ]
}