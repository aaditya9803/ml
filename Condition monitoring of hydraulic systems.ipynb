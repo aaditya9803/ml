{
  "nbformat": 4,
  "nbformat_minor": 0,
  "metadata": {
    "colab": {
      "provenance": [],
      "gpuType": "T4",
      "authorship_tag": "ABX9TyPdyggI9+krh4ylFo3mUh0W",
      "include_colab_link": true
    },
    "kernelspec": {
      "name": "python3",
      "display_name": "Python 3"
    },
    "language_info": {
      "name": "python"
    }
  },
  "cells": [
    {
      "cell_type": "markdown",
      "metadata": {
        "id": "view-in-github",
        "colab_type": "text"
      },
      "source": [
        "<a href=\"https://colab.research.google.com/github/aaditya9803/ml/blob/main/Condition%20monitoring%20of%20hydraulic%20systems.ipynb\" target=\"_parent\"><img src=\"https://colab.research.google.com/assets/colab-badge.svg\" alt=\"Open In Colab\"/></a>"
      ]
    },
    {
      "cell_type": "markdown",
      "source": [
        "\n",
        "## Importing files from Google drive\n",
        "\n"
      ],
      "metadata": {
        "id": "Zf1uQ4MalsjS"
      }
    },
    {
      "cell_type": "code",
      "execution_count": 1,
      "metadata": {
        "id": "o9hm423Wy4A8",
        "colab": {
          "base_uri": "https://localhost:8080/"
        },
        "outputId": "6b9870af-ec09-4033-f8a5-e85f3fcdc70a"
      },
      "outputs": [
        {
          "output_type": "stream",
          "name": "stderr",
          "text": [
            "WARNING:root:pydrive is deprecated and no longer maintained. We recommend that you migrate your projects to pydrive2, the maintained fork of pydrive\n"
          ]
        },
        {
          "output_type": "stream",
          "name": "stdout",
          "text": [
            "Downloading CE.txt...\n",
            "Downloading CP.txt...\n",
            "Downloading EPS1.txt...\n",
            "Downloading FS1.txt...\n",
            "Downloading FS2.txt...\n",
            "Downloading PS1.txt...\n",
            "Downloading PS2.txt...\n",
            "Downloading PS3.txt...\n",
            "Downloading PS4.txt...\n",
            "Downloading PS5.txt...\n",
            "Downloading PS6.txt...\n",
            "Downloading SE.txt...\n",
            "Downloading TS1.txt...\n",
            "Downloading TS2.txt...\n",
            "Downloading TS3.txt...\n",
            "Downloading TS4.txt...\n",
            "Downloading VS1.txt...\n",
            "Downloading profile.txt...\n",
            "All files downloaded (if found).\n"
          ]
        }
      ],
      "source": [
        "!pip install -U -q PyDrive\n",
        "from pydrive.auth import GoogleAuth\n",
        "from pydrive.drive import GoogleDrive\n",
        "from google.colab import auth\n",
        "from oauth2client.client import GoogleCredentials\n",
        "import os\n",
        "\n",
        "# Authenticate and create the PyDrive client.\n",
        "auth.authenticate_user()\n",
        "gauth = GoogleAuth()\n",
        "gauth.credentials = GoogleCredentials.get_application_default()\n",
        "drive = GoogleDrive(gauth)\n",
        "\n",
        "# List of file names.\n",
        "file_names = ['CE.txt', 'CP.txt', 'EPS1.txt', 'FS1.txt', 'FS2.txt',\n",
        "              'PS1.txt', 'PS2.txt', 'PS3.txt', 'PS4.txt', 'PS5.txt',\n",
        "              'PS6.txt', 'SE.txt', 'TS1.txt', 'TS2.txt', 'TS3.txt',\n",
        "              'TS4.txt', 'VS1.txt','profile.txt']\n",
        "\n",
        "# Get the ID of the current folder (where the notebook is located).\n",
        "# Assuming the notebook is in \"My Drive/Colab Notebooks\" or similar\n",
        "# by default.\n",
        "# Alternatively, you can get a specific folder ID or use a method to find your folder\n",
        "current_folder_id = '1KSKmvJYgR1N_0dOffHON1SFAlrlfwpMs' # Replace with your specific folder ID if needed\n",
        "\n",
        "\n",
        "# Iterate through the file names and download each file.\n",
        "for file_name in file_names:\n",
        "    # List files in the current folder.\n",
        "    file_list = drive.ListFile({'q': \"'{}' in parents and trashed=false\".format(current_folder_id)}).GetList()\n",
        "\n",
        "    # Find the file with the matching name.\n",
        "    file_to_download = next((file for file in file_list if file['title'] == file_name), None)\n",
        "\n",
        "    if file_to_download:\n",
        "        # Download the file.\n",
        "        print(f\"Downloading {file_name}...\")\n",
        "        file_to_download.GetContentFile(file_name)  # Downloads to Colab environment\n",
        "    else:\n",
        "        print(f\"File {file_name} not found in the folder.\")\n",
        "\n",
        "print(\"All files downloaded (if found).\")"
      ]
    },
    {
      "cell_type": "markdown",
      "source": [
        "# Importing python libraries"
      ],
      "metadata": {
        "id": "dVaCM3Vol89l"
      }
    },
    {
      "cell_type": "code",
      "source": [
        "%matplotlib inline\n",
        "import numpy as np\n",
        "import pandas as pd\n",
        "import matplotlib.pyplot as plt\n",
        "import datetime as dt\n",
        "import seaborn as sns\n",
        "from sklearn.preprocessing import StandardScaler\n",
        "from sklearn.linear_model import LinearRegression\n",
        "from sklearn.pipeline import Pipeline\n",
        "from sklearn.model_selection import train_test_split, cross_val_score\n",
        "from sklearn.preprocessing import OneHotEncoder\n",
        "from sklearn.ensemble import RandomForestClassifier\n",
        "from sklearn.preprocessing import LabelBinarizer\n",
        "from sklearn.preprocessing import LabelEncoder\n",
        "from sklearn.metrics import confusion_matrix, classification_report, f1_score\n",
        "import xgboost as xgb\n",
        "import os\n",
        "from sklearn.model_selection import KFold\n",
        "from sklearn.metrics import mean_squared_error, r2_score\n",
        "from tensorflow import keras\n",
        "from tensorflow.keras.callbacks import EarlyStopping\n",
        "from sklearn.svm import SVC\n",
        "from sklearn.metrics import accuracy_score"
      ],
      "metadata": {
        "id": "EGXTBswBzr0R"
      },
      "execution_count": 53,
      "outputs": []
    },
    {
      "cell_type": "markdown",
      "source": [
        "## Features and Targets"
      ],
      "metadata": {
        "id": "nLCnaftgmRbm"
      }
    },
    {
      "cell_type": "code",
      "source": [
        "def read_file(filename):\n",
        "    return pd.read_csv((filename), sep='\\t', header=None)\n",
        "\n",
        "pressureFile1 = read_file(filename='PS1.txt')\n",
        "pressureFile2 = read_file(filename='PS2.txt')\n",
        "pressureFile3 = read_file(filename='PS3.txt')\n",
        "pressureFile4 = read_file(filename='PS4.txt')\n",
        "pressureFile5 = read_file(filename='PS5.txt')\n",
        "pressureFile6 = read_file(filename='PS6.txt')\n",
        "\n",
        "\n",
        "volumeFlow1 = read_file(filename='FS1.txt')\n",
        "volumeFlow2 = read_file(filename='FS2.txt')\n",
        "\n",
        "\n",
        "temperature1 = read_file(filenamnvenie='TS1.txt')\n",
        "temperature2 = read_file(filename='TS2.txt')\n",
        "temperature3 = read_file(filename='TS3.txt')\n",
        "temperature4 = read_file(filename='TS4.txt')\n",
        "\n",
        "pump1 = read_file(filename='EPS1.txt')\n",
        "vibration1 = read_file(filename='VS1.txt')\n",
        "coolingE1 = read_file(filename='CE.txt')\n",
        "coolingP1 = read_file(filename='CP.txt')\n",
        "effFactor1 = read_file(filename='SE.txt')\n",
        "\n",
        "profile = read_file(filename='profile.txt')\n",
        "\n",
        "\n",
        "# for the targets\n",
        "\n",
        "y_coolerCondition = pd.DataFrame(profile.iloc[:, 0])\n",
        "y_valveCondition = pd.DataFrame(profile.iloc[:, 1])\n",
        "y_pumpLeak = pd.DataFrame(profile.iloc[:, 2])\n",
        "y_hydraulicAcc = pd.DataFrame(profile.iloc[:, 3])\n",
        "y_stableFlag = pd.DataFrame(profile.iloc[:, 4])\n"
      ],
      "metadata": {
        "id": "zGQA3CcY1cC_"
      },
      "execution_count": 3,
      "outputs": []
    },
    {
      "cell_type": "code",
      "source": [
        "pressureFile1.shape\n"
      ],
      "metadata": {
        "id": "3iMr5A7SBlia",
        "colab": {
          "base_uri": "https://localhost:8080/"
        },
        "outputId": "235e03bc-4f4e-4a07-997d-ff30fb5f66c2"
      },
      "execution_count": 4,
      "outputs": [
        {
          "output_type": "execute_result",
          "data": {
            "text/plain": [
              "(2205, 6000)"
            ]
          },
          "metadata": {},
          "execution_count": 4
        }
      ]
    },
    {
      "cell_type": "markdown",
      "source": [
        "##Functions to Upsample and Downsample"
      ],
      "metadata": {
        "id": "JPYhuotfmjn4"
      }
    },
    {
      "cell_type": "code",
      "source": [
        "#converts 100hz to 10hz\n",
        "def mean_conversion_100hz(df, chunk_size=10, prefix=''):\n",
        "    num_chunks = df.shape[1] // chunk_size\n",
        "    columns = [f'{prefix}_{i}' for i in range(num_chunks)]\n",
        "    df_mean_chunks = pd.DataFrame(index=df.index, columns=columns)\n",
        "\n",
        "    for index, row in df.iterrows():\n",
        "        mean_chunks = row.values.reshape(-1, chunk_size).mean(axis=1)\n",
        "        df_mean_chunks.loc[index] = mean_chunks\n",
        "\n",
        "    return df_mean_chunks\n",
        "\n",
        "\n",
        "#converts 100hz to 1z\n",
        "def mean_conversion_1hz(df, chunk_size=100, prefix=''):\n",
        "    num_chunks = df.shape[1] // chunk_size\n",
        "    columns = [f'{prefix}_{i}' for i in range(num_chunks)]\n",
        "    df_mean_chunks = pd.DataFrame(index=df.index, columns=columns)\n",
        "\n",
        "    for index, row in df.iterrows():\n",
        "        mean_chunks = row.values.reshape(-1, chunk_size).mean(axis=1)\n",
        "        df_mean_chunks.loc[index] = mean_chunks\n",
        "\n",
        "    return df_mean_chunks\n",
        "\n",
        "#For Upsampling\n",
        "def repeat_values(df, repeat_count=10):\n",
        "    all_expanded_rows = []\n",
        "\n",
        "    for index, row in df.iterrows():\n",
        "        expanded_row = np.repeat(row.values, repeat_count)\n",
        "        all_expanded_rows.append(pd.Series(expanded_row))\n",
        "    df_expanded = pd.concat(all_expanded_rows, ignore_index=True)  # Concatenate all rows at once\n",
        "\n",
        "    return df_expanded\n",
        "\n",
        "#For mean of the row (mean of the cycle)\n",
        "def mean_conversion(df):\n",
        "    df1 = pd.DataFrame()\n",
        "    df1['mean'] = df.mean(axis=1)\n",
        "    return df1"
      ],
      "metadata": {
        "id": "VpXG9s8blnpO"
      },
      "execution_count": 5,
      "outputs": []
    },
    {
      "cell_type": "markdown",
      "source": [
        "## Upsampling and Downsampling to 10hz"
      ],
      "metadata": {
        "id": "Yv9mSGk7wihZ"
      }
    },
    {
      "cell_type": "code",
      "source": [
        "# #100HZ TO 10HZ\n",
        "# PS1 = mean_conversion_100hz(pressureFile1)\n",
        "# PS1.columns = [f'PS1_{i}' for i in range(PS1.shape[1])]\n",
        "\n",
        "# PS2 = mean_conversion_100hz(pressureFile2)\n",
        "# PS2.columns = [f'PS2_{i}' for i in range(PS2.shape[1])]\n",
        "\n",
        "# PS3 = mean_conversion_100hz(pressureFile3)\n",
        "# PS3.columns = [f'PS3_{i}' for i in range(PS3.shape[1])]\n",
        "\n",
        "# PS4 = mean_conversion_100hz(pressureFile4)\n",
        "# PS4.columns = [f'PS4_{i}' for i in range(PS4.shape[1])]\n",
        "\n",
        "# PS5 = mean_conversion_100hz(pressureFile5)\n",
        "# PS5.columns = [f'PS5_{i}' for i in range(PS5.shape[1])]\n",
        "\n",
        "# PS6 = mean_conversion_100hz(pressureFile6)\n",
        "# PS6.columns = [f'PS6_{i}' for i in range(PS6.shape[1])]\n",
        "\n",
        "# P1 = mean_conversion_100hz(pump1)\n",
        "# P1.columns = [f'P1_{i}' for i in range(P1.shape[1])]\n",
        "\n",
        "# #Leaving 10HZ as it is\n",
        "\n",
        "# FS1 = pd.DataFrame(volumeFlow1)\n",
        "# FS1.columns = [f'FS1_{i}' for i in range(FS1.shape[1])]\n",
        "\n",
        "# FS2 = pd.DataFrame(volumeFlow2)\n",
        "# FS2.columns = [f'FS2_{i}' for i in range(FS2.shape[1])]\n",
        "\n",
        "# #1HZ to 10HZ\n",
        "\n",
        "# TS1 = pd.DataFrame(repeat_values(temperature1))\n",
        "# TS1.columns = ['TS1']\n",
        "\n",
        "# TS2 = pd.DataFrame(repeat_values(temperature2))\n",
        "# TS2.columns = ['TS2']\n",
        "\n",
        "# TS3 = pd.DataFrame(repeat_values(temperature3))\n",
        "# TS3.columns = ['TS3']\n",
        "\n",
        "# TS4 = pd.DataFrame(repeat_values(temperature4))\n",
        "# TS4.columns = ['TS4']\n",
        "\n",
        "# VS1 = pd.DataFrame(repeat_values(vibration1))\n",
        "# VS1.columns = ['VS1']\n",
        "\n",
        "# CE1 = pd.DataFrame(repeat_values(coolingE1))\n",
        "# CE1.columns = ['CE1']\n",
        "\n",
        "# CP1 = pd.DataFrame(repeat_values(coolingP1))\n",
        "# CP1.columns = ['CP1']\n",
        "\n",
        "# SE1 = pd.DataFrame(repeat_values(effFactor1))\n",
        "# SE1.columns = ['SE1']"
      ],
      "metadata": {
        "id": "V2s6S1vGwiB4"
      },
      "execution_count": 6,
      "outputs": []
    },
    {
      "cell_type": "markdown",
      "source": [
        "## DownSampling to 1HZ"
      ],
      "metadata": {
        "id": "6zPEv1uVAlRt"
      }
    },
    {
      "cell_type": "code",
      "source": [
        "#100HZ TO 1HZ\n",
        "PS1 = mean_conversion_1hz(pressureFile1)\n",
        "PS1.columns = [f'PS1_{i}' for i in range(PS1.shape[1])]\n",
        "\n",
        "PS2 = mean_conversion_1hz(pressureFile2)\n",
        "PS2.columns = [f'PS2_{i}' for i in range(PS2.shape[1])]\n",
        "\n",
        "PS3 = mean_conversion_1hz(pressureFile3)\n",
        "PS3.columns = [f'PS3_{i}' for i in range(PS3.shape[1])]\n",
        "\n",
        "PS4 = mean_conversion_1hz(pressureFile4)\n",
        "PS4.columns = [f'PS4_{i}' for i in range(PS4.shape[1])]\n",
        "\n",
        "PS5 = mean_conversion_1hz(pressureFile5)\n",
        "PS5.columns = [f'PS5_{i}' for i in range(PS5.shape[1])]\n",
        "\n",
        "PS6 = mean_conversion_1hz(pressureFile6)\n",
        "PS6.columns = [f'PS6_{i}' for i in range(PS6.shape[1])]\n",
        "\n",
        "P1 = mean_conversion_1hz(pump1)\n",
        "P1.columns = [f'P1_{i}' for i in range(P1.shape[1])]\n",
        "\n",
        "#10hz to 1hz\n",
        "\n",
        "FS1 = pd.DataFrame(mean_conversion_100hz(volumeFlow1))\n",
        "FS1.columns = [f'FS1_{i}' for i in range(FS1.shape[1])]\n",
        "\n",
        "FS2 = pd.DataFrame(mean_conversion_100hz(volumeFlow2))\n",
        "FS2.columns = [f'FS2_{i}' for i in range(FS2.shape[1])]\n",
        "\n",
        "#Leaving 1HZ as it is\n",
        "\n",
        "TS1 = pd.DataFrame(temperature1)\n",
        "TS1.columns = [f'TS1_{i}' for i in range(TS1.shape[1])]\n",
        "\n",
        "TS2 = pd.DataFrame(temperature2)\n",
        "TS2.columns = [f'TS2_{i}' for i in range(TS2.shape[1])]\n",
        "\n",
        "TS3 = pd.DataFrame(temperature3)\n",
        "TS3.columns = [f'TS3_{i}' for i in range(TS3.shape[1])]\n",
        "\n",
        "TS4 = pd.DataFrame(temperature4)\n",
        "TS4.columns = [f'TS4_{i}' for i in range(TS4.shape[1])]\n",
        "\n",
        "VS1 = pd.DataFrame(vibration1)\n",
        "VS1.columns = [f'VS1_{i}' for i in range(VS1.shape[1])]\n",
        "\n",
        "CE1 = pd.DataFrame(coolingE1)\n",
        "CE1.columns = [f'CE1_{i}' for i in range(CE1.shape[1])]\n",
        "\n",
        "CP1 = pd.DataFrame(coolingP1)\n",
        "CP1.columns = [f'CP1_{i}' for i in range(CP1.shape[1])]\n",
        "\n",
        "SE1 = pd.DataFrame(effFactor1)\n",
        "SE1.columns = [f'SE1_{i}' for i in range(SE1.shape[1])]"
      ],
      "metadata": {
        "id": "Wx0KBWJgAXZI"
      },
      "execution_count": 7,
      "outputs": []
    },
    {
      "cell_type": "markdown",
      "source": [
        "## Mean of a cycle (of the whole row)"
      ],
      "metadata": {
        "id": "GXUMxtIms2Al"
      }
    },
    {
      "cell_type": "code",
      "source": [
        "# PS1 = pd.DataFrame(mean_conversion(pressureFile1))\n",
        "# PS1.columns = ['PS1'] # Rename the column to 'PS1'\n",
        "\n",
        "# PS2 = pd.DataFrame(mean_conversion(pressureFile2))\n",
        "# PS2.columns = ['PS2']\n",
        "\n",
        "# PS3 = pd.DataFrame(mean_conversion(pressureFile3))\n",
        "# PS3.columns = ['PS3']\n",
        "\n",
        "# PS4 = pd.DataFrame(mean_conversion(pressureFile4))\n",
        "# PS4.columns = ['PS4']\n",
        "\n",
        "# PS5 = pd.DataFrame(mean_conversion(pressureFile5))\n",
        "# PS5.columns = ['PS5']\n",
        "\n",
        "# PS6 = pd.DataFrame(mean_conversion(pressureFile6))\n",
        "# PS6.columns = ['PS6']\n",
        "\n",
        "# FS1 = pd.DataFrame(mean_conversion(volumeFlow1))\n",
        "# FS1.columns = ['FS1']\n",
        "\n",
        "# FS2 = pd.DataFrame(mean_conversion(volumeFlow2))\n",
        "# FS2.columns = ['FS2']\n",
        "\n",
        "# TS1 = pd.DataFrame(mean_conversion(temperature1))\n",
        "# TS1.columns = ['TS1']\n",
        "\n",
        "# TS2 = pd.DataFrame(mean_conversion(temperature2))\n",
        "# TS2.columns = ['TS2']\n",
        "\n",
        "# TS3 = pd.DataFrame(mean_conversion(temperature3))\n",
        "# TS3.columns = ['TS3']\n",
        "\n",
        "# TS4 = pd.DataFrame(mean_conversion(temperature4))\n",
        "# TS4.columns = ['TS4']\n",
        "\n",
        "# P1 = pd.DataFrame(mean_conversion(pump1))\n",
        "# P1.columns = ['P1']\n",
        "\n",
        "# VS1 = pd.DataFrame(mean_conversion(vibration1))\n",
        "# VS1.columns = ['VS1']\n",
        "\n",
        "# CE1 = pd.DataFrame(mean_conversion(coolingE1))\n",
        "# CE1.columns = ['CE1']\n",
        "\n",
        "# CP1 = pd.DataFrame(mean_conversion(coolingP1))\n",
        "# CP1.columns = ['CP1']\n",
        "\n",
        "# SE1 = pd.DataFrame(mean_conversion(effFactor1))\n",
        "# SE1.columns = ['SE1']"
      ],
      "metadata": {
        "id": "jsFmUioE5wZy"
      },
      "execution_count": 8,
      "outputs": []
    },
    {
      "cell_type": "code",
      "source": [
        "PS1.shape"
      ],
      "metadata": {
        "colab": {
          "base_uri": "https://localhost:8080/"
        },
        "id": "pOAfli-98LNk",
        "outputId": "9d9650ae-39af-4041-86d8-334460ca8497"
      },
      "execution_count": 9,
      "outputs": [
        {
          "output_type": "execute_result",
          "data": {
            "text/plain": [
              "(2205, 60)"
            ]
          },
          "metadata": {},
          "execution_count": 9
        }
      ]
    },
    {
      "cell_type": "code",
      "source": [
        "X = pd.concat([PS1, PS2, PS3, PS4, PS5, PS6, FS1, FS2, TS1, TS2, TS3, TS4, P1, VS1, CE1, CP1, SE1], axis=1)\n",
        "#X1.hist(bins=50, figsize=(20, 15))"
      ],
      "metadata": {
        "id": "4UK-8e2F6wfT"
      },
      "execution_count": 10,
      "outputs": []
    },
    {
      "cell_type": "code",
      "source": [
        "# Convert applicable columns to numeric type before plotting.\n",
        "for col in PS1.columns:  # Changed PS3 to PS1\n",
        "    try:\n",
        "        # Attempt to convert the column to numeric.\n",
        "        PS1[col] = pd.to_numeric(PS1[col])  # Changed PS3 to PS1\n",
        "    except ValueError:\n",
        "        # If conversion fails (e.g., due to non-numeric values),\n",
        "        # print a message and continue.\n",
        "        print(f\"Could not convert column {col} to numeric. It might contain non-numeric values.\")\n",
        "\n",
        "# Now you can try plotting the histogram again.\n",
        "PS1.hist(bins=50, figsize=(20, 15))\n",
        "plt.show()"
      ],
      "metadata": {
        "colab": {
          "base_uri": "https://localhost:8080/",
          "height": 1000
        },
        "id": "OwrYwQ1-YfWy",
        "outputId": "0e6889c6-554c-4983-b465-0fe2ba4b40c2"
      },
      "execution_count": 11,
      "outputs": [
        {
          "output_type": "display_data",
          "data": {
            "text/plain": [
              "<Figure size 2000x1500 with 64 Axes>"
            ],
            "image/png": "[encoded data removed]"
          },
          "metadata": {}
        }
      ]
    },
    {
      "cell_type": "markdown",
      "source": [
        "## Using XGB"
      ],
      "metadata": {
        "id": "q6-iEzNBQj9N"
      }
    },
    {
      "cell_type": "code",
      "source": [
        "def predict_pump_performance(X, y):\n",
        "    X_train, X_test, y_train, y_test = train_test_split(X, y, test_size=0.2, random_state=24)\n",
        "\n",
        "    X_test, X_val, y_test, y_val = train_test_split(X_test, y_test, test_size=0.2, random_state=24)\n",
        "\n",
        "    num_classes = len(np.unique(y_train))\n",
        "\n",
        "    if num_classes < 2:\n",
        "        raise ValueError(\"Target variable must have at least 2 unique values for multi-class classification.\")\n",
        "\n",
        "    seed= 24\n",
        "\n",
        "    if num_classes == 2 and len(y.shape) == 1:\n",
        "        objective_func = 'binary:logistic'\n",
        "    else:\n",
        "        objective_func = 'multi:softprob'\n",
        "\n",
        "    xgb1 = xgb.sklearn.XGBClassifier(\n",
        "            learning_rate =0.1,\n",
        "             n_estimators=100,\n",
        "             max_depth=5,\n",
        "             min_child_weight=11,\n",
        "             gamma=0.1,\n",
        "             subsample=0.8,\n",
        "             colsample_bytree=0.7,\n",
        "             objective=objective_func,\n",
        "             n_jobs=-1,\n",
        "             scale_pos_weight=1,\n",
        "             seed=seed,\n",
        "             num_class=num_classes\n",
        "    )\n",
        "\n",
        "    xgb1.fit(X_train, y_train)\n",
        "\n",
        "    if objective_func == 'multi:softprob':\n",
        "        y_pred_probs = xgb1.predict_proba(X_val)\n",
        "        y_pred = np.argmax(y_pred_probs, axis=1)\n",
        "    else:\n",
        "        y_pred = xgb1.predict(X_val)\n",
        "\n",
        "    y_val = y_val.astype(int)\n",
        "    y_pred = y_pred.astype(int)\n",
        "\n",
        "    #confusion matrix and classification report\n",
        "\n",
        "    cm = confusion_matrix(y_val, y_pred)\n",
        "\n",
        "    print(classification_report(y_val, y_pred))"
      ],
      "metadata": {
        "id": "jWwlX5k8_vkW"
      },
      "execution_count": 12,
      "outputs": []
    },
    {
      "cell_type": "code",
      "source": [
        "for col in X.select_dtypes(include=['object']).columns:\n",
        "    try:\n",
        "        X[col] = pd.to_numeric(X[col])\n",
        "    except ValueError:\n",
        "        print(f\"Could not convert column {col} to numeric. It might contain non-numeric values.\")"
      ],
      "metadata": {
        "id": "KJIY7BLdRjhH"
      },
      "execution_count": 13,
      "outputs": []
    },
    {
      "cell_type": "code",
      "source": [
        "predict_pump_performance(X, y_stableFlag)"
      ],
      "metadata": {
        "colab": {
          "base_uri": "https://localhost:8080/"
        },
        "id": "81uJitNU8oQT",
        "outputId": "96c58142-d27d-434c-de0c-2e7b007a13b0"
      },
      "execution_count": 44,
      "outputs": [
        {
          "output_type": "stream",
          "name": "stderr",
          "text": [
            "/usr/local/lib/python3.10/dist-packages/xgboost/core.py:158: UserWarning: [16:03:46] WARNING: /workspace/src/learner.cc:740: \n",
            "Parameters: { \"scale_pos_weight\" } are not used.\n",
            "\n",
            "  warnings.warn(smsg, UserWarning)\n"
          ]
        },
        {
          "output_type": "stream",
          "name": "stdout",
          "text": [
            "              precision    recall  f1-score   support\n",
            "\n",
            "           0       0.95      0.98      0.97        58\n",
            "           1       0.97      0.90      0.93        31\n",
            "\n",
            "    accuracy                           0.96        89\n",
            "   macro avg       0.96      0.94      0.95        89\n",
            "weighted avg       0.96      0.96      0.95        89\n",
            "\n"
          ]
        }
      ]
    },
    {
      "cell_type": "markdown",
      "source": [
        "## Using Linear Regression"
      ],
      "metadata": {
        "id": "s1EqtQ88Qtmq"
      }
    },
    {
      "cell_type": "code",
      "source": [
        "def predict_pump_performance_linear(X, y, num_folds=5):\n",
        "    kf = KFold(n_splits=num_folds, shuffle = True, random_state=24)\n",
        "    mse_scores = []\n",
        "    r2_scores = []\n",
        "\n",
        "    for fold_idx, (train_idx, test_idx) in enumerate(kf.split(X)):\n",
        "\n",
        "        X_train, X_test = X.iloc[train_idx], X.iloc[test_idx]\n",
        "        y_train, y_test = y.iloc[train_idx], y.iloc[test_idx]\n",
        "\n",
        "        model = LinearRegression()\n",
        "        model.fit(X_train, y_train)\n",
        "\n",
        "        y_pred = model.predict(X_test)\n",
        "\n",
        "        # Evaluate the model\n",
        "        mse = mean_squared_error(y_test, y_pred)\n",
        "        r2 = r2_score(y_test, y_pred)\n",
        "        mse_scores.append(mse)\n",
        "        r2_scores.append(r2)\n",
        "\n",
        "        print(f\"Mean Squared Error: {np.mean(mse_scores):.4f}\")\n",
        "        print(f\"R-squared: {r2}\")"
      ],
      "metadata": {
        "id": "Ho0BiaDCQqYi"
      },
      "execution_count": 45,
      "outputs": []
    },
    {
      "cell_type": "code",
      "source": [
        "predict_pump_performance_linear(X, y_stableFlag)"
      ],
      "metadata": {
        "colab": {
          "base_uri": "https://localhost:8080/"
        },
        "id": "m0QE4FPcYHp9",
        "outputId": "c2f054c2-9dd8-4b96-e2cf-e4c7a001fbe1"
      },
      "execution_count": 46,
      "outputs": [
        {
          "output_type": "stream",
          "name": "stdout",
          "text": [
            "Mean Squared Error: 0.0931\n",
            "R-squared: 0.5541383527835676\n",
            "Mean Squared Error: 0.0975\n",
            "R-squared: 0.5634644874213119\n",
            "Mean Squared Error: 0.0914\n",
            "R-squared: 0.6571962744874664\n",
            "Mean Squared Error: 0.1090\n",
            "R-squared: 0.3055421444858971\n",
            "Mean Squared Error: 0.1034\n",
            "R-squared: 0.6246756146032382\n"
          ]
        }
      ]
    },
    {
      "cell_type": "markdown",
      "source": [
        "## Using SVM"
      ],
      "metadata": {
        "id": "PmLvjxpoBkgy"
      }
    },
    {
      "cell_type": "code",
      "source": [
        "def svm(X, y):\n",
        "    X_train, X_test, y_train, y_test = train_test_split(X, y, test_size=0.3,\n",
        "    random_state=42)\n",
        "\n",
        "    # Feature scaling\n",
        "    scaler = StandardScaler()\n",
        "    X_train = scaler.fit_transform(X_train)\n",
        "    X_test = scaler.transform(X_test)\n",
        "\n",
        "    # Create the SVM model\n",
        "    model = SVC(kernel='rbf',\n",
        "    C=1, gamma='auto')\n",
        "\n",
        "    # Perform cross-validation\n",
        "    scores = cross_val_score(model, X_train, y_train, cv=5)  # 5-fold cross-validation\n",
        "\n",
        "    # Print cross-validation scores\n",
        "    print(\"Cross-validation scores:\", scores)\n",
        "    print(\"Average cross-validation score:\", scores.mean())\n",
        "\n",
        "\n",
        "    # Train the model on the entire training set\n",
        "    model.fit(X_train, y_train)\n",
        "\n",
        "    # Make predictions on the test set and evaluate\n",
        "    y_pred = model.predict(X_test)\n",
        "    accuracy = accuracy_score(y_test, y_pred)\n",
        "    print(f\"Test set accuracy: {accuracy}\")"
      ],
      "metadata": {
        "id": "iyZUCc-lBnFJ"
      },
      "execution_count": 54,
      "outputs": []
    },
    {
      "cell_type": "code",
      "source": [
        "svm(X,y_stableFlag)"
      ],
      "metadata": {
        "colab": {
          "base_uri": "https://localhost:8080/"
        },
        "id": "cUD9nRvaElIx",
        "outputId": "5acd83ab-6fc3-4382-fc1d-4dc583c4b637"
      },
      "execution_count": 55,
      "outputs": [
        {
          "output_type": "stream",
          "name": "stderr",
          "text": [
            "/usr/local/lib/python3.10/dist-packages/sklearn/utils/validation.py:1339: DataConversionWarning: A column-vector y was passed when a 1d array was expected. Please change the shape of y to (n_samples, ), for example using ravel().\n",
            "  y = column_or_1d(y, warn=True)\n",
            "/usr/local/lib/python3.10/dist-packages/sklearn/utils/validation.py:1339: DataConversionWarning: A column-vector y was passed when a 1d array was expected. Please change the shape of y to (n_samples, ), for example using ravel().\n",
            "  y = column_or_1d(y, warn=True)\n",
            "/usr/local/lib/python3.10/dist-packages/sklearn/utils/validation.py:1339: DataConversionWarning: A column-vector y was passed when a 1d array was expected. Please change the shape of y to (n_samples, ), for example using ravel().\n",
            "  y = column_or_1d(y, warn=True)\n",
            "/usr/local/lib/python3.10/dist-packages/sklearn/utils/validation.py:1339: DataConversionWarning: A column-vector y was passed when a 1d array was expected. Please change the shape of y to (n_samples, ), for example using ravel().\n",
            "  y = column_or_1d(y, warn=True)\n",
            "/usr/local/lib/python3.10/dist-packages/sklearn/utils/validation.py:1339: DataConversionWarning: A column-vector y was passed when a 1d array was expected. Please change the shape of y to (n_samples, ), for example using ravel().\n",
            "  y = column_or_1d(y, warn=True)\n"
          ]
        },
        {
          "output_type": "stream",
          "name": "stdout",
          "text": [
            "Cross-validation scores: [0.90614887 0.90614887 0.92556634 0.92857143 0.93181818]\n",
            "Average cross-validation score: 0.9196507376119026\n"
          ]
        },
        {
          "output_type": "stream",
          "name": "stderr",
          "text": [
            "/usr/local/lib/python3.10/dist-packages/sklearn/utils/validation.py:1339: DataConversionWarning: A column-vector y was passed when a 1d array was expected. Please change the shape of y to (n_samples, ), for example using ravel().\n",
            "  y = column_or_1d(y, warn=True)\n"
          ]
        },
        {
          "output_type": "stream",
          "name": "stdout",
          "text": [
            "Test set accuracy: 0.9244712990936556\n"
          ]
        }
      ]
    },
    {
      "cell_type": "markdown",
      "source": [
        "## Using Random forest"
      ],
      "metadata": {
        "id": "4aCujUIxQ134"
      }
    },
    {
      "cell_type": "code",
      "source": [
        "def randomforest(X, y, num_folds=5):\n",
        "    kf = KFold(n_splits=num_folds, shuffle = True, random_state=24)\n",
        "    for fold_idx, (train_idx, test_idx) in enumerate(kf.split(X)):\n",
        "\n",
        "            X_train, X_test = X.iloc[train_idx], X.iloc[test_idx]\n",
        "            y_train, y_test = y.iloc[train_idx], y.iloc[test_idx]\n",
        "\n",
        "            rf_model = RandomForestClassifier(n_estimators=100, random_state=42)\n",
        "            rf_model.fit(X_train, y_train)\n",
        "            y_pred = rf_model.predict(X_test)\n",
        "            print(classification_report(y_test, y_pred))\n",
        "            print(f\"Fold {fold_idx + 1}\")"
      ],
      "metadata": {
        "id": "0E2tWRRMYf16"
      },
      "execution_count": 34,
      "outputs": []
    },
    {
      "cell_type": "code",
      "source": [
        "randomforest(X,y_stableFlag)"
      ],
      "metadata": {
        "colab": {
          "base_uri": "https://localhost:8080/"
        },
        "id": "H-vtw2etPLic",
        "outputId": "e9b54799-5939-4481-a090-4166b52b9797"
      },
      "execution_count": 35,
      "outputs": [
        {
          "output_type": "stream",
          "name": "stderr",
          "text": [
            "/usr/local/lib/python3.10/dist-packages/sklearn/base.py:1473: DataConversionWarning: A column-vector y was passed when a 1d array was expected. Please change the shape of y to (n_samples,), for example using ravel().\n",
            "  return fit_method(estimator, *args, **kwargs)\n"
          ]
        },
        {
          "output_type": "stream",
          "name": "stdout",
          "text": [
            "              precision    recall  f1-score   support\n",
            "\n",
            "           0       0.97      1.00      0.98       310\n",
            "           1       1.00      0.92      0.96       131\n",
            "\n",
            "    accuracy                           0.98       441\n",
            "   macro avg       0.98      0.96      0.97       441\n",
            "weighted avg       0.98      0.98      0.97       441\n",
            "\n",
            "Fold 1\n"
          ]
        },
        {
          "output_type": "stream",
          "name": "stderr",
          "text": [
            "/usr/local/lib/python3.10/dist-packages/sklearn/base.py:1473: DataConversionWarning: A column-vector y was passed when a 1d array was expected. Please change the shape of y to (n_samples,), for example using ravel().\n",
            "  return fit_method(estimator, *args, **kwargs)\n"
          ]
        },
        {
          "output_type": "stream",
          "name": "stdout",
          "text": [
            "              precision    recall  f1-score   support\n",
            "\n",
            "           0       0.96      1.00      0.98       277\n",
            "           1       1.00      0.93      0.96       164\n",
            "\n",
            "    accuracy                           0.97       441\n",
            "   macro avg       0.98      0.96      0.97       441\n",
            "weighted avg       0.97      0.97      0.97       441\n",
            "\n",
            "Fold 2\n"
          ]
        },
        {
          "output_type": "stream",
          "name": "stderr",
          "text": [
            "/usr/local/lib/python3.10/dist-packages/sklearn/base.py:1473: DataConversionWarning: A column-vector y was passed when a 1d array was expected. Please change the shape of y to (n_samples,), for example using ravel().\n",
            "  return fit_method(estimator, *args, **kwargs)\n"
          ]
        },
        {
          "output_type": "stream",
          "name": "stdout",
          "text": [
            "              precision    recall  f1-score   support\n",
            "\n",
            "           0       0.98      1.00      0.99       281\n",
            "           1       1.00      0.97      0.98       160\n",
            "\n",
            "    accuracy                           0.99       441\n",
            "   macro avg       0.99      0.98      0.99       441\n",
            "weighted avg       0.99      0.99      0.99       441\n",
            "\n",
            "Fold 3\n"
          ]
        },
        {
          "output_type": "stream",
          "name": "stderr",
          "text": [
            "/usr/local/lib/python3.10/dist-packages/sklearn/base.py:1473: DataConversionWarning: A column-vector y was passed when a 1d array was expected. Please change the shape of y to (n_samples,), for example using ravel().\n",
            "  return fit_method(estimator, *args, **kwargs)\n"
          ]
        },
        {
          "output_type": "stream",
          "name": "stdout",
          "text": [
            "              precision    recall  f1-score   support\n",
            "\n",
            "           0       0.97      1.00      0.99       278\n",
            "           1       1.00      0.95      0.97       163\n",
            "\n",
            "    accuracy                           0.98       441\n",
            "   macro avg       0.99      0.98      0.98       441\n",
            "weighted avg       0.98      0.98      0.98       441\n",
            "\n",
            "Fold 4\n"
          ]
        },
        {
          "output_type": "stream",
          "name": "stderr",
          "text": [
            "/usr/local/lib/python3.10/dist-packages/sklearn/base.py:1473: DataConversionWarning: A column-vector y was passed when a 1d array was expected. Please change the shape of y to (n_samples,), for example using ravel().\n",
            "  return fit_method(estimator, *args, **kwargs)\n"
          ]
        },
        {
          "output_type": "stream",
          "name": "stdout",
          "text": [
            "              precision    recall  f1-score   support\n",
            "\n",
            "           0       0.96      1.00      0.98       303\n",
            "           1       1.00      0.91      0.95       138\n",
            "\n",
            "    accuracy                           0.97       441\n",
            "   macro avg       0.98      0.96      0.97       441\n",
            "weighted avg       0.97      0.97      0.97       441\n",
            "\n",
            "Fold 5\n"
          ]
        }
      ]
    },
    {
      "cell_type": "markdown",
      "source": [
        "## Using Neural Networks"
      ],
      "metadata": {
        "id": "ZFvDXhXlBI98"
      }
    },
    {
      "cell_type": "code",
      "source": [
        "def neuralnetwork(X, y, num_folds=10, patience=3):\n",
        "    kf = KFold(n_splits=num_folds, shuffle=True, random_state=24)\n",
        "    for fold_idx, (train_idx, test_idx) in enumerate(kf.split(X)):\n",
        "        X_train, X_test = X.iloc[train_idx], X.iloc[test_idx]\n",
        "        y_train, y_test = y.iloc[train_idx], y.iloc[test_idx]\n",
        "\n",
        "        # Standardize the data\n",
        "        scaler = StandardScaler()\n",
        "        X_train = scaler.fit_transform(X_train)\n",
        "        X_test = scaler.transform(X_test)\n",
        "\n",
        "        # Build the model\n",
        "        model = keras.Sequential([\n",
        "            keras.layers.Dense(64, activation='relu', input_shape=(X_train.shape[1],)),\n",
        "            keras.layers.Dense(32, activation='relu'),\n",
        "            keras.layers.Dense(1, activation='sigmoid')\n",
        "        ])\n",
        "        model.compile(optimizer='adam', loss='binary_crossentropy', metrics=['accuracy'])\n",
        "\n",
        "        # EarlyStopping callback\n",
        "        early_stopping = EarlyStopping(\n",
        "            monitor='val_loss',\n",
        "            patience=patience,\n",
        "            restore_best_weights=Truetask2\n",
        "        )\n",
        "\n",
        "        # Fit the model with early stopping callback\n",
        "        model.fit(\n",
        "            X_train, y_train,\n",
        "            epochs=100,\n",
        "            batch_size=32,\n",
        "            validation_split=0.2,\n",
        "            callbacks=[early_stopping]\n",
        "        )\n",
        "\n",
        "        # Evaluate the model on the test set after training\n",
        "        test_loss, test_accuracy = model.evaluate(X_test, y_test)\n",
        "        print(f\"Fold {fold_idx + 1}: Test Loss = {test_loss:.4f}, Test Accuracy = {test_accuracy:.4f}\")"
      ],
      "metadata": {
        "id": "uAabQXOaPsEQ"
      },
      "execution_count": 41,
      "outputs": []
    },
    {
      "cell_type": "code",
      "source": [
        "neuralnetwork(X,y_stableFlag)"
      ],
      "metadata": {
        "colab": {
          "base_uri": "https://localhost:8080/"
        },
        "id": "AV_zAD22xF4y",
        "outputId": "a3b681bd-a87b-4bf5-9ee6-764da8b90fff"
      },
      "execution_count": 42,
      "outputs": [
        {
          "output_type": "stream",
          "name": "stdout",
          "text": [
            "Epoch 1/100\n"
          ]
        },
        {
          "output_type": "stream",
          "name": "stderr",
          "text": [
            "/usr/local/lib/python3.10/dist-packages/keras/src/layers/core/dense.py:87: UserWarning: Do not pass an `input_shape`/`input_dim` argument to a layer. When using Sequential models, prefer using an `Input(shape)` object as the first layer in the model instead.\n",
            "  super().__init__(activity_regularizer=activity_regularizer, **kwargs)\n"
          ]
        },
        {
          "output_type": "stream",
          "name": "stdout",
          "text": [
            "\u001b[1m50/50\u001b[0m \u001b[32m━━━━━━━━━━━━━━━━━━━━\u001b[0m\u001b[37m\u001b[0m \u001b[1m2s\u001b[0m 21ms/step - accuracy: 0.8115 - loss: 0.4351 - val_accuracy: 0.5315 - val_loss: 1.5307\n",
            "Epoch 2/100\n",
            "\u001b[1m50/50\u001b[0m \u001b[32m━━━━━━━━━━━━━━━━━━━━\u001b[0m\u001b[37m\u001b[0m \u001b[1m0s\u001b[0m 4ms/step - accuracy: 0.9394 - loss: 0.1703 - val_accuracy: 0.8766 - val_loss: 0.5492\n",
            "Epoch 3/100\n",
            "\u001b[1m50/50\u001b[0m \u001b[32m━━━━━━━━━━━━━━━━━━━━\u001b[0m\u001b[37m\u001b[0m \u001b[1m0s\u001b[0m 4ms/step - accuracy: 0.9410 - loss: 0.1607 - val_accuracy: 0.7380 - val_loss: 0.9591\n",
            "Epoch 4/100\n",
            "\u001b[1m50/50\u001b[0m \u001b[32m━━━━━━━━━━━━━━━━━━━━\u001b[0m\u001b[37m\u001b[0m \u001b[1m0s\u001b[0m 4ms/step - accuracy: 0.9580 - loss: 0.1272 - val_accuracy: 0.7456 - val_loss: 0.9108\n",
            "Epoch 5/100\n",
            "\u001b[1m50/50\u001b[0m \u001b[32m━━━━━━━━━━━━━━━━━━━━\u001b[0m\u001b[37m\u001b[0m \u001b[1m0s\u001b[0m 4ms/step - accuracy: 0.9486 - loss: 0.1371 - val_accuracy: 0.8186 - val_loss: 0.5124\n",
            "Epoch 6/100\n",
            "\u001b[1m50/50\u001b[0m \u001b[32m━━━━━━━━━━━━━━━━━━━━\u001b[0m\u001b[37m\u001b[0m \u001b[1m0s\u001b[0m 3ms/step - accuracy: 0.9529 - loss: 0.1304 - val_accuracy: 0.7582 - val_loss: 1.0561\n",
            "Epoch 7/100\n",
            "\u001b[1m50/50\u001b[0m \u001b[32m━━━━━━━━━━━━━━━━━━━━\u001b[0m\u001b[37m\u001b[0m \u001b[1m0s\u001b[0m 5ms/step - accuracy: 0.9608 - loss: 0.1062 - val_accuracy: 0.8338 - val_loss: 0.5026\n",
            "Epoch 8/100\n",
            "\u001b[1m50/50\u001b[0m \u001b[32m━━━━━━━━━━━━━━━━━━━━\u001b[0m\u001b[37m\u001b[0m \u001b[1m0s\u001b[0m 3ms/step - accuracy: 0.9686 - loss: 0.0940 - val_accuracy: 0.7481 - val_loss: 1.2215\n",
            "Epoch 9/100\n",
            "\u001b[1m50/50\u001b[0m \u001b[32m━━━━━━━━━━━━━━━━━━━━\u001b[0m\u001b[37m\u001b[0m \u001b[1m0s\u001b[0m 3ms/step - accuracy: 0.9589 - loss: 0.1200 - val_accuracy: 0.7582 - val_loss: 0.9263\n",
            "Epoch 10/100\n",
            "\u001b[1m50/50\u001b[0m \u001b[32m━━━━━━━━━━━━━━━━━━━━\u001b[0m\u001b[37m\u001b[0m \u001b[1m0s\u001b[0m 5ms/step - accuracy: 0.9733 - loss: 0.0903 - val_accuracy: 0.8690 - val_loss: 0.3874\n",
            "Epoch 11/100\n",
            "\u001b[1m50/50\u001b[0m \u001b[32m━━━━━━━━━━━━━━━━━━━━\u001b[0m\u001b[37m\u001b[0m \u001b[1m0s\u001b[0m 4ms/step - accuracy: 0.9731 - loss: 0.0714 - val_accuracy: 0.7280 - val_loss: 1.4666\n",
            "Epoch 12/100\n",
            "\u001b[1m50/50\u001b[0m \u001b[32m━━━━━━━━━━━━━━━━━━━━\u001b[0m\u001b[37m\u001b[0m \u001b[1m0s\u001b[0m 4ms/step - accuracy: 0.9610 - loss: 0.1016 - val_accuracy: 0.4081 - val_loss: 4.1775\n",
            "Epoch 13/100\n",
            "\u001b[1m50/50\u001b[0m \u001b[32m━━━━━━━━━━━━━━━━━━━━\u001b[0m\u001b[37m\u001b[0m \u001b[1m0s\u001b[0m 5ms/step - accuracy: 0.9606 - loss: 0.1083 - val_accuracy: 0.6725 - val_loss: 1.9685\n",
            "\u001b[1m7/7\u001b[0m \u001b[32m━━━━━━━━━━━━━━━━━━━━\u001b[0m\u001b[37m\u001b[0m \u001b[1m0s\u001b[0m 3ms/step - accuracy: 0.9587 - loss: 0.1411 \n",
            "Fold 1: Test Loss = 0.1801, Test Accuracy = 0.9412\n",
            "Epoch 1/100\n"
          ]
        },
        {
          "output_type": "stream",
          "name": "stderr",
          "text": [
            "/usr/local/lib/python3.10/dist-packages/keras/src/layers/core/dense.py:87: UserWarning: Do not pass an `input_shape`/`input_dim` argument to a layer. When using Sequential models, prefer using an `Input(shape)` object as the first layer in the model instead.\n",
            "  super().__init__(activity_regularizer=activity_regularizer, **kwargs)\n"
          ]
        },
        {
          "output_type": "stream",
          "name": "stdout",
          "text": [
            "\u001b[1m50/50\u001b[0m \u001b[32m━━━━━━━━━━━━━━━━━━━━\u001b[0m\u001b[37m\u001b[0m \u001b[1m2s\u001b[0m 8ms/step - accuracy: 0.7463 - loss: 0.4908 - val_accuracy: 0.6877 - val_loss: 0.6272\n",
            "Epoch 2/100\n",
            "\u001b[1m50/50\u001b[0m \u001b[32m━━━━━━━━━━━━━━━━━━━━\u001b[0m\u001b[37m\u001b[0m \u001b[1m0s\u001b[0m 4ms/step - accuracy: 0.9370 - loss: 0.1715 - val_accuracy: 0.7884 - val_loss: 0.4841\n",
            "Epoch 3/100\n",
            "\u001b[1m50/50\u001b[0m \u001b[32m━━━━━━━━━━━━━━━━━━━━\u001b[0m\u001b[37m\u001b[0m \u001b[1m0s\u001b[0m 3ms/step - accuracy: 0.9440 - loss: 0.1385 - val_accuracy: 0.6801 - val_loss: 1.0052\n",
            "Epoch 4/100\n",
            "\u001b[1m50/50\u001b[0m \u001b[32m━━━━━━━━━━━━━━━━━━━━\u001b[0m\u001b[37m\u001b[0m \u001b[1m0s\u001b[0m 4ms/step - accuracy: 0.9568 - loss: 0.1175 - val_accuracy: 0.8312 - val_loss: 0.3768\n",
            "Epoch 5/100\n",
            "\u001b[1m50/50\u001b[0m \u001b[32m━━━━━━━━━━━━━━━━━━━━\u001b[0m\u001b[37m\u001b[0m \u001b[1m0s\u001b[0m 4ms/step - accuracy: 0.9515 - loss: 0.1346 - val_accuracy: 0.8841 - val_loss: 0.3349\n",
            "Epoch 6/100\n",
            "\u001b[1m50/50\u001b[0m \u001b[32m━━━━━━━━━━━━━━━━━━━━\u001b[0m\u001b[37m\u001b[0m \u001b[1m0s\u001b[0m 5ms/step - accuracy: 0.9604 - loss: 0.1138 - val_accuracy: 0.7506 - val_loss: 0.6868\n",
            "Epoch 7/100\n",
            "\u001b[1m50/50\u001b[0m \u001b[32m━━━━━━━━━━━━━━━━━━━━\u001b[0m\u001b[37m\u001b[0m \u001b[1m0s\u001b[0m 4ms/step - accuracy: 0.9454 - loss: 0.1298 - val_accuracy: 0.6700 - val_loss: 1.4893\n",
            "Epoch 8/100\n",
            "\u001b[1m50/50\u001b[0m \u001b[32m━━━━━━━━━━━━━━━━━━━━\u001b[0m\u001b[37m\u001b[0m \u001b[1m0s\u001b[0m 4ms/step - accuracy: 0.9569 - loss: 0.1117 - val_accuracy: 0.7078 - val_loss: 1.1718\n",
            "\u001b[1m7/7\u001b[0m \u001b[32m━━━━━━━━━━━━━━━━━━━━\u001b[0m\u001b[37m\u001b[0m \u001b[1m0s\u001b[0m 3ms/step - accuracy: 0.9254 - loss: 0.2077 \n",
            "Fold 2: Test Loss = 0.1999, Test Accuracy = 0.9231\n",
            "Epoch 1/100\n"
          ]
        },
        {
          "output_type": "stream",
          "name": "stderr",
          "text": [
            "/usr/local/lib/python3.10/dist-packages/keras/src/layers/core/dense.py:87: UserWarning: Do not pass an `input_shape`/`input_dim` argument to a layer. When using Sequential models, prefer using an `Input(shape)` object as the first layer in the model instead.\n",
            "  super().__init__(activity_regularizer=activity_regularizer, **kwargs)\n"
          ]
        },
        {
          "output_type": "stream",
          "name": "stdout",
          "text": [
            "\u001b[1m50/50\u001b[0m \u001b[32m━━━━━━━━━━━━━━━━━━━━\u001b[0m\u001b[37m\u001b[0m \u001b[1m2s\u001b[0m 13ms/step - accuracy: 0.7987 - loss: 0.4638 - val_accuracy: 0.6096 - val_loss: 1.1397\n",
            "Epoch 2/100\n",
            "\u001b[1m50/50\u001b[0m \u001b[32m━━━━━━━━━━━━━━━━━━━━\u001b[0m\u001b[37m\u001b[0m \u001b[1m1s\u001b[0m 6ms/step - accuracy: 0.9365 - loss: 0.1622 - val_accuracy: 0.6121 - val_loss: 1.1043\n",
            "Epoch 3/100\n",
            "\u001b[1m50/50\u001b[0m \u001b[32m━━━━━━━━━━━━━━━━━━━━\u001b[0m\u001b[37m\u001b[0m \u001b[1m1s\u001b[0m 7ms/step - accuracy: 0.9399 - loss: 0.1542 - val_accuracy: 0.7053 - val_loss: 0.6409\n",
            "Epoch 4/100\n",
            "\u001b[1m50/50\u001b[0m \u001b[32m━━━━━━━━━━━━━━━━━━━━\u001b[0m\u001b[37m\u001b[0m \u001b[1m1s\u001b[0m 7ms/step - accuracy: 0.9585 - loss: 0.1217 - val_accuracy: 0.5894 - val_loss: 1.8062\n",
            "Epoch 5/100\n",
            "\u001b[1m50/50\u001b[0m \u001b[32m━━━━━━━━━━━━━━━━━━━━\u001b[0m\u001b[37m\u001b[0m \u001b[1m0s\u001b[0m 5ms/step - accuracy: 0.9527 - loss: 0.1148 - val_accuracy: 0.7003 - val_loss: 0.8948\n",
            "Epoch 6/100\n",
            "\u001b[1m50/50\u001b[0m \u001b[32m━━━━━━━━━━━━━━━━━━━━\u001b[0m\u001b[37m\u001b[0m \u001b[1m0s\u001b[0m 4ms/step - accuracy: 0.9650 - loss: 0.0928 - val_accuracy: 0.6045 - val_loss: 1.8009\n",
            "\u001b[1m7/7\u001b[0m \u001b[32m━━━━━━━━━━━━━━━━━━━━\u001b[0m\u001b[37m\u001b[0m \u001b[1m0s\u001b[0m 3ms/step - accuracy: 0.9316 - loss: 0.1481 \n",
            "Fold 3: Test Loss = 0.2207, Test Accuracy = 0.9005\n",
            "Epoch 1/100\n"
          ]
        },
        {
          "output_type": "stream",
          "name": "stderr",
          "text": [
            "/usr/local/lib/python3.10/dist-packages/keras/src/layers/core/dense.py:87: UserWarning: Do not pass an `input_shape`/`input_dim` argument to a layer. When using Sequential models, prefer using an `Input(shape)` object as the first layer in the model instead.\n",
            "  super().__init__(activity_regularizer=activity_regularizer, **kwargs)\n"
          ]
        },
        {
          "output_type": "stream",
          "name": "stdout",
          "text": [
            "\u001b[1m50/50\u001b[0m \u001b[32m━━━━━━━━━━━━━━━━━━━━\u001b[0m\u001b[37m\u001b[0m \u001b[1m2s\u001b[0m 7ms/step - accuracy: 0.8007 - loss: 0.4624 - val_accuracy: 0.6877 - val_loss: 0.7478\n",
            "Epoch 2/100\n",
            "\u001b[1m50/50\u001b[0m \u001b[32m━━━━━━━━━━━━━━━━━━━━\u001b[0m\u001b[37m\u001b[0m \u001b[1m0s\u001b[0m 4ms/step - accuracy: 0.9430 - loss: 0.1908 - val_accuracy: 0.7179 - val_loss: 0.7932\n",
            "Epoch 3/100\n",
            "\u001b[1m50/50\u001b[0m \u001b[32m━━━━━━━━━━━━━━━━━━━━\u001b[0m\u001b[37m\u001b[0m \u001b[1m0s\u001b[0m 4ms/step - accuracy: 0.9347 - loss: 0.1488 - val_accuracy: 0.7834 - val_loss: 0.5134\n",
            "Epoch 4/100\n",
            "\u001b[1m50/50\u001b[0m \u001b[32m━━━━━━━━━━━━━━━━━━━━\u001b[0m\u001b[37m\u001b[0m \u001b[1m0s\u001b[0m 4ms/step - accuracy: 0.9609 - loss: 0.1123 - val_accuracy: 0.7607 - val_loss: 0.6623\n",
            "Epoch 5/100\n",
            "\u001b[1m50/50\u001b[0m \u001b[32m━━━━━━━━━━━━━━━━━━━━\u001b[0m\u001b[37m\u001b[0m \u001b[1m0s\u001b[0m 4ms/step - accuracy: 0.9531 - loss: 0.1355 - val_accuracy: 0.7380 - val_loss: 0.8821\n",
            "Epoch 6/100\n",
            "\u001b[1m50/50\u001b[0m \u001b[32m━━━━━━━━━━━━━━━━━━━━\u001b[0m\u001b[37m\u001b[0m \u001b[1m0s\u001b[0m 3ms/step - accuracy: 0.9642 - loss: 0.0931 - val_accuracy: 0.7380 - val_loss: 0.9111\n",
            "\u001b[1m7/7\u001b[0m \u001b[32m━━━━━━━━━━━━━━━━━━━━\u001b[0m\u001b[37m\u001b[0m \u001b[1m0s\u001b[0m 3ms/step - accuracy: 0.9134 - loss: 0.1843 \n",
            "Fold 4: Test Loss = 0.1964, Test Accuracy = 0.9050\n",
            "Epoch 1/100\n"
          ]
        },
        {
          "output_type": "stream",
          "name": "stderr",
          "text": [
            "/usr/local/lib/python3.10/dist-packages/keras/src/layers/core/dense.py:87: UserWarning: Do not pass an `input_shape`/`input_dim` argument to a layer. When using Sequential models, prefer using an `Input(shape)` object as the first layer in the model instead.\n",
            "  super().__init__(activity_regularizer=activity_regularizer, **kwargs)\n"
          ]
        },
        {
          "output_type": "stream",
          "name": "stdout",
          "text": [
            "\u001b[1m50/50\u001b[0m \u001b[32m━━━━━━━━━━━━━━━━━━━━\u001b[0m\u001b[37m\u001b[0m \u001b[1m2s\u001b[0m 7ms/step - accuracy: 0.7789 - loss: 0.4528 - val_accuracy: 0.7305 - val_loss: 0.5878\n",
            "Epoch 2/100\n",
            "\u001b[1m50/50\u001b[0m \u001b[32m━━━━━━━━━━━━━━━━━━━━\u001b[0m\u001b[37m\u001b[0m \u001b[1m0s\u001b[0m 4ms/step - accuracy: 0.9252 - loss: 0.2291 - val_accuracy: 0.6297 - val_loss: 1.3532\n",
            "Epoch 3/100\n",
            "\u001b[1m50/50\u001b[0m \u001b[32m━━━━━━━━━━━━━━━━━━━━\u001b[0m\u001b[37m\u001b[0m \u001b[1m0s\u001b[0m 4ms/step - accuracy: 0.9368 - loss: 0.1918 - val_accuracy: 0.8212 - val_loss: 0.4159\n",
            "Epoch 4/100\n",
            "\u001b[1m50/50\u001b[0m \u001b[32m━━━━━━━━━━━━━━━━━━━━\u001b[0m\u001b[37m\u001b[0m \u001b[1m0s\u001b[0m 4ms/step - accuracy: 0.9565 - loss: 0.1255 - val_accuracy: 0.8489 - val_loss: 0.3843\n",
            "Epoch 5/100\n",
            "\u001b[1m50/50\u001b[0m \u001b[32m━━━━━━━━━━━━━━━━━━━━\u001b[0m\u001b[37m\u001b[0m \u001b[1m0s\u001b[0m 4ms/step - accuracy: 0.9480 - loss: 0.1359 - val_accuracy: 0.7683 - val_loss: 0.6489\n",
            "Epoch 6/100\n",
            "\u001b[1m50/50\u001b[0m \u001b[32m━━━━━━━━━━━━━━━━━━━━\u001b[0m\u001b[37m\u001b[0m \u001b[1m0s\u001b[0m 4ms/step - accuracy: 0.9484 - loss: 0.1476 - val_accuracy: 0.8539 - val_loss: 0.3879\n",
            "Epoch 7/100\n",
            "\u001b[1m50/50\u001b[0m \u001b[32m━━━━━━━━━━━━━━━━━━━━\u001b[0m\u001b[37m\u001b[0m \u001b[1m0s\u001b[0m 4ms/step - accuracy: 0.9564 - loss: 0.1189 - val_accuracy: 0.7557 - val_loss: 0.9516\n",
            "\u001b[1m7/7\u001b[0m \u001b[32m━━━━━━━━━━━━━━━━━━━━\u001b[0m\u001b[37m\u001b[0m \u001b[1m0s\u001b[0m 3ms/step - accuracy: 0.9561 - loss: 0.0962 \n",
            "Fold 5: Test Loss = 0.1780, Test Accuracy = 0.9321\n",
            "Epoch 1/100\n"
          ]
        },
        {
          "output_type": "stream",
          "name": "stderr",
          "text": [
            "/usr/local/lib/python3.10/dist-packages/keras/src/layers/core/dense.py:87: UserWarning: Do not pass an `input_shape`/`input_dim` argument to a layer. When using Sequential models, prefer using an `Input(shape)` object as the first layer in the model instead.\n",
            "  super().__init__(activity_regularizer=activity_regularizer, **kwargs)\n"
          ]
        },
        {
          "output_type": "stream",
          "name": "stdout",
          "text": [
            "\u001b[1m50/50\u001b[0m \u001b[32m━━━━━━━━━━━━━━━━━━━━\u001b[0m\u001b[37m\u001b[0m \u001b[1m2s\u001b[0m 8ms/step - accuracy: 0.7605 - loss: 0.4745 - val_accuracy: 0.6297 - val_loss: 0.9556\n",
            "Epoch 2/100\n",
            "\u001b[1m50/50\u001b[0m \u001b[32m━━━━━━━━━━━━━━━━━━━━\u001b[0m\u001b[37m\u001b[0m \u001b[1m0s\u001b[0m 4ms/step - accuracy: 0.9313 - loss: 0.1783 - val_accuracy: 0.8741 - val_loss: 0.4171\n",
            "Epoch 3/100\n",
            "\u001b[1m50/50\u001b[0m \u001b[32m━━━━━━━━━━━━━━━━━━━━\u001b[0m\u001b[37m\u001b[0m \u001b[1m0s\u001b[0m 3ms/step - accuracy: 0.9438 - loss: 0.1340 - val_accuracy: 0.6952 - val_loss: 0.9249\n",
            "Epoch 4/100\n",
            "\u001b[1m50/50\u001b[0m \u001b[32m━━━━━━━━━━━━━━━━━━━━\u001b[0m\u001b[37m\u001b[0m \u001b[1m0s\u001b[0m 6ms/step - accuracy: 0.9547 - loss: 0.1240 - val_accuracy: 0.8035 - val_loss: 0.4296\n",
            "Epoch 5/100\n",
            "\u001b[1m50/50\u001b[0m \u001b[32m━━━━━━━━━━━━━━━━━━━━\u001b[0m\u001b[37m\u001b[0m \u001b[1m1s\u001b[0m 6ms/step - accuracy: 0.9462 - loss: 0.1316 - val_accuracy: 0.6977 - val_loss: 1.0299\n",
            "\u001b[1m7/7\u001b[0m \u001b[32m━━━━━━━━━━━━━━━━━━━━\u001b[0m\u001b[37m\u001b[0m \u001b[1m0s\u001b[0m 4ms/step - accuracy: 0.9504 - loss: 0.1835 \n",
            "Fold 6: Test Loss = 0.1618, Test Accuracy = 0.9409\n",
            "Epoch 1/100\n"
          ]
        },
        {
          "output_type": "stream",
          "name": "stderr",
          "text": [
            "/usr/local/lib/python3.10/dist-packages/keras/src/layers/core/dense.py:87: UserWarning: Do not pass an `input_shape`/`input_dim` argument to a layer. When using Sequential models, prefer using an `Input(shape)` object as the first layer in the model instead.\n",
            "  super().__init__(activity_regularizer=activity_regularizer, **kwargs)\n"
          ]
        },
        {
          "output_type": "stream",
          "name": "stdout",
          "text": [
            "\u001b[1m50/50\u001b[0m \u001b[32m━━━━━━━━━━━━━━━━━━━━\u001b[0m\u001b[37m\u001b[0m \u001b[1m3s\u001b[0m 15ms/step - accuracy: 0.7872 - loss: 0.4503 - val_accuracy: 0.8640 - val_loss: 0.4109\n",
            "Epoch 2/100\n",
            "\u001b[1m50/50\u001b[0m \u001b[32m━━━━━━━━━━━━━━━━━━━━\u001b[0m\u001b[37m\u001b[0m \u001b[1m1s\u001b[0m 8ms/step - accuracy: 0.9433 - loss: 0.1772 - val_accuracy: 0.6247 - val_loss: 0.9348\n",
            "Epoch 3/100\n",
            "\u001b[1m50/50\u001b[0m \u001b[32m━━━━━━━━━━━━━━━━━━━━\u001b[0m\u001b[37m\u001b[0m \u001b[1m0s\u001b[0m 4ms/step - accuracy: 0.9499 - loss: 0.1446 - val_accuracy: 0.7809 - val_loss: 0.4745\n",
            "Epoch 4/100\n",
            "\u001b[1m50/50\u001b[0m \u001b[32m━━━━━━━━━━━━━━━━━━━━\u001b[0m\u001b[37m\u001b[0m \u001b[1m0s\u001b[0m 4ms/step - accuracy: 0.9548 - loss: 0.1271 - val_accuracy: 0.8841 - val_loss: 0.3492\n",
            "Epoch 5/100\n",
            "\u001b[1m50/50\u001b[0m \u001b[32m━━━━━━━━━━━━━━━━━━━━\u001b[0m\u001b[37m\u001b[0m \u001b[1m0s\u001b[0m 4ms/step - accuracy: 0.9467 - loss: 0.1430 - val_accuracy: 0.8741 - val_loss: 0.3934\n",
            "Epoch 6/100\n",
            "\u001b[1m50/50\u001b[0m \u001b[32m━━━━━━━━━━━━━━━━━━━━\u001b[0m\u001b[37m\u001b[0m \u001b[1m0s\u001b[0m 4ms/step - accuracy: 0.9644 - loss: 0.0980 - val_accuracy: 0.6725 - val_loss: 1.3405\n",
            "Epoch 7/100\n",
            "\u001b[1m50/50\u001b[0m \u001b[32m━━━━━━━━━━━━━━━━━━━━\u001b[0m\u001b[37m\u001b[0m \u001b[1m0s\u001b[0m 4ms/step - accuracy: 0.9634 - loss: 0.0976 - val_accuracy: 0.7128 - val_loss: 0.9362\n",
            "\u001b[1m7/7\u001b[0m \u001b[32m━━━━━━━━━━━━━━━━━━━━\u001b[0m\u001b[37m\u001b[0m \u001b[1m0s\u001b[0m 3ms/step - accuracy: 0.9605 - loss: 0.1382 \n",
            "Fold 7: Test Loss = 0.2093, Test Accuracy = 0.9364\n",
            "Epoch 1/100\n"
          ]
        },
        {
          "output_type": "stream",
          "name": "stderr",
          "text": [
            "/usr/local/lib/python3.10/dist-packages/keras/src/layers/core/dense.py:87: UserWarning: Do not pass an `input_shape`/`input_dim` argument to a layer. When using Sequential models, prefer using an `Input(shape)` object as the first layer in the model instead.\n",
            "  super().__init__(activity_regularizer=activity_regularizer, **kwargs)\n"
          ]
        },
        {
          "output_type": "stream",
          "name": "stdout",
          "text": [
            "\u001b[1m50/50\u001b[0m \u001b[32m━━━━━━━━━━━━━━━━━━━━\u001b[0m\u001b[37m\u001b[0m \u001b[1m2s\u001b[0m 7ms/step - accuracy: 0.8067 - loss: 0.4314 - val_accuracy: 0.7003 - val_loss: 0.6900\n",
            "Epoch 2/100\n",
            "\u001b[1m50/50\u001b[0m \u001b[32m━━━━━━━━━━━━━━━━━━━━\u001b[0m\u001b[37m\u001b[0m \u001b[1m0s\u001b[0m 4ms/step - accuracy: 0.9275 - loss: 0.1855 - val_accuracy: 0.8086 - val_loss: 0.4490\n",
            "Epoch 3/100\n",
            "\u001b[1m50/50\u001b[0m \u001b[32m━━━━━━━━━━━━━━━━━━━━\u001b[0m\u001b[37m\u001b[0m \u001b[1m0s\u001b[0m 4ms/step - accuracy: 0.9408 - loss: 0.1574 - val_accuracy: 0.8866 - val_loss: 0.4055\n",
            "Epoch 4/100\n",
            "\u001b[1m50/50\u001b[0m \u001b[32m━━━━━━━━━━━━━━━━━━━━\u001b[0m\u001b[37m\u001b[0m \u001b[1m0s\u001b[0m 4ms/step - accuracy: 0.9481 - loss: 0.1355 - val_accuracy: 0.7733 - val_loss: 0.7027\n",
            "Epoch 5/100\n",
            "\u001b[1m50/50\u001b[0m \u001b[32m━━━━━━━━━━━━━━━━━━━━\u001b[0m\u001b[37m\u001b[0m \u001b[1m0s\u001b[0m 4ms/step - accuracy: 0.9511 - loss: 0.1482 - val_accuracy: 0.6927 - val_loss: 1.2899\n",
            "Epoch 6/100\n",
            "\u001b[1m50/50\u001b[0m \u001b[32m━━━━━━━━━━━━━━━━━━━━\u001b[0m\u001b[37m\u001b[0m \u001b[1m0s\u001b[0m 4ms/step - accuracy: 0.9606 - loss: 0.1084 - val_accuracy: 0.8690 - val_loss: 0.3490\n",
            "Epoch 7/100\n",
            "\u001b[1m50/50\u001b[0m \u001b[32m━━━━━━━━━━━━━━━━━━━━\u001b[0m\u001b[37m\u001b[0m \u001b[1m0s\u001b[0m 4ms/step - accuracy: 0.9537 - loss: 0.1069 - val_accuracy: 0.7128 - val_loss: 1.3735\n",
            "Epoch 8/100\n",
            "\u001b[1m50/50\u001b[0m \u001b[32m━━━━━━━━━━━━━━━━━━━━\u001b[0m\u001b[37m\u001b[0m \u001b[1m0s\u001b[0m 5ms/step - accuracy: 0.9679 - loss: 0.1013 - val_accuracy: 0.7531 - val_loss: 1.0515\n",
            "Epoch 9/100\n",
            "\u001b[1m50/50\u001b[0m \u001b[32m━━━━━━━━━━━━━━━━━━━━\u001b[0m\u001b[37m\u001b[0m \u001b[1m0s\u001b[0m 4ms/step - accuracy: 0.9616 - loss: 0.0997 - val_accuracy: 0.7003 - val_loss: 1.3896\n",
            "\u001b[1m7/7\u001b[0m \u001b[32m━━━━━━━━━━━━━━━━━━━━\u001b[0m\u001b[37m\u001b[0m \u001b[1m0s\u001b[0m 3ms/step - accuracy: 0.9221 - loss: 0.1992 \n",
            "Fold 8: Test Loss = 0.2307, Test Accuracy = 0.9091\n",
            "Epoch 1/100\n"
          ]
        },
        {
          "output_type": "stream",
          "name": "stderr",
          "text": [
            "/usr/local/lib/python3.10/dist-packages/keras/src/layers/core/dense.py:87: UserWarning: Do not pass an `input_shape`/`input_dim` argument to a layer. When using Sequential models, prefer using an `Input(shape)` object as the first layer in the model instead.\n",
            "  super().__init__(activity_regularizer=activity_regularizer, **kwargs)\n"
          ]
        },
        {
          "output_type": "stream",
          "name": "stdout",
          "text": [
            "\u001b[1m50/50\u001b[0m \u001b[32m━━━━━━━━━━━━━━━━━━━━\u001b[0m\u001b[37m\u001b[0m \u001b[1m2s\u001b[0m 7ms/step - accuracy: 0.8131 - loss: 0.4054 - val_accuracy: 0.8212 - val_loss: 0.3856\n",
            "Epoch 2/100\n",
            "\u001b[1m50/50\u001b[0m \u001b[32m━━━━━━━━━━━━━━━━━━━━\u001b[0m\u001b[37m\u001b[0m \u001b[1m0s\u001b[0m 4ms/step - accuracy: 0.9310 - loss: 0.1890 - val_accuracy: 0.8892 - val_loss: 0.4008\n",
            "Epoch 3/100\n",
            "\u001b[1m50/50\u001b[0m \u001b[32m━━━━━━━━━━━━━━━━━━━━\u001b[0m\u001b[37m\u001b[0m \u001b[1m0s\u001b[0m 3ms/step - accuracy: 0.9423 - loss: 0.1641 - val_accuracy: 0.7884 - val_loss: 0.5155\n",
            "Epoch 4/100\n",
            "\u001b[1m50/50\u001b[0m \u001b[32m━━━━━━━━━━━━━━━━━━━━\u001b[0m\u001b[37m\u001b[0m \u001b[1m0s\u001b[0m 3ms/step - accuracy: 0.9538 - loss: 0.1281 - val_accuracy: 0.7557 - val_loss: 0.7204\n",
            "\u001b[1m7/7\u001b[0m \u001b[32m━━━━━━━━━━━━━━━━━━━━\u001b[0m\u001b[37m\u001b[0m \u001b[1m0s\u001b[0m 2ms/step - accuracy: 0.9222 - loss: 0.2220 \n",
            "Fold 9: Test Loss = 0.2463, Test Accuracy = 0.9045\n",
            "Epoch 1/100\n"
          ]
        },
        {
          "output_type": "stream",
          "name": "stderr",
          "text": [
            "/usr/local/lib/python3.10/dist-packages/keras/src/layers/core/dense.py:87: UserWarning: Do not pass an `input_shape`/`input_dim` argument to a layer. When using Sequential models, prefer using an `Input(shape)` object as the first layer in the model instead.\n",
            "  super().__init__(activity_regularizer=activity_regularizer, **kwargs)\n"
          ]
        },
        {
          "output_type": "stream",
          "name": "stdout",
          "text": [
            "\u001b[1m50/50\u001b[0m \u001b[32m━━━━━━━━━━━━━━━━━━━━\u001b[0m\u001b[37m\u001b[0m \u001b[1m2s\u001b[0m 12ms/step - accuracy: 0.8194 - loss: 0.4163 - val_accuracy: 0.6071 - val_loss: 1.2838\n",
            "Epoch 2/100\n",
            "\u001b[1m50/50\u001b[0m \u001b[32m━━━━━━━━━━━━━━━━━━━━\u001b[0m\u001b[37m\u001b[0m \u001b[1m0s\u001b[0m 6ms/step - accuracy: 0.9414 - loss: 0.1686 - val_accuracy: 0.7909 - val_loss: 0.4540\n",
            "Epoch 3/100\n",
            "\u001b[1m50/50\u001b[0m \u001b[32m━━━━━━━━━━━━━━━━━━━━\u001b[0m\u001b[37m\u001b[0m \u001b[1m0s\u001b[0m 6ms/step - accuracy: 0.9491 - loss: 0.1390 - val_accuracy: 0.5592 - val_loss: 1.8949\n",
            "Epoch 4/100\n",
            "\u001b[1m50/50\u001b[0m \u001b[32m━━━━━━━━━━━━━━━━━━━━\u001b[0m\u001b[37m\u001b[0m \u001b[1m1s\u001b[0m 8ms/step - accuracy: 0.9467 - loss: 0.1326 - val_accuracy: 0.8363 - val_loss: 0.3263\n",
            "Epoch 5/100\n",
            "\u001b[1m50/50\u001b[0m \u001b[32m━━━━━━━━━━━━━━━━━━━━\u001b[0m\u001b[37m\u001b[0m \u001b[1m1s\u001b[0m 8ms/step - accuracy: 0.9197 - loss: 0.1992 - val_accuracy: 0.7154 - val_loss: 0.9872\n",
            "Epoch 6/100\n",
            "\u001b[1m50/50\u001b[0m \u001b[32m━━━━━━━━━━━━━━━━━━━━\u001b[0m\u001b[37m\u001b[0m \u001b[1m0s\u001b[0m 7ms/step - accuracy: 0.9546 - loss: 0.1193 - val_accuracy: 0.6776 - val_loss: 1.8720\n",
            "Epoch 7/100\n",
            "\u001b[1m50/50\u001b[0m \u001b[32m━━━━━━━━━━━━━━━━━━━━\u001b[0m\u001b[37m\u001b[0m \u001b[1m0s\u001b[0m 7ms/step - accuracy: 0.9609 - loss: 0.1033 - val_accuracy: 0.4962 - val_loss: 2.6245\n",
            "\u001b[1m7/7\u001b[0m \u001b[32m━━━━━━━━━━━━━━━━━━━━\u001b[0m\u001b[37m\u001b[0m \u001b[1m0s\u001b[0m 4ms/step - accuracy: 0.9316 - loss: 0.1941 \n",
            "Fold 10: Test Loss = 0.2653, Test Accuracy = 0.9000\n"
          ]
        }
      ]
    },
    {
      "cell_type": "code",
      "source": [],
      "metadata": {
        "id": "k9LLHExs0B0W"
      },
      "execution_count": null,
      "outputs": []
    }
  ]
}