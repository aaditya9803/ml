{
  "nbformat": 4,
  "nbformat_minor": 0,
  "metadata": {
    "colab": {
      "provenance": [],
      "authorship_tag": "ABX9TyMMnRifZVB59Bp9xQcAugY6"
    },
    "kernelspec": {
      "name": "python3",
      "display_name": "Python 3"
    },
    "language_info": {
      "name": "python"
    }
  },
  "cells": [
    {
      "cell_type": "markdown",
      "source": [
        "# Importing Libraries"
      ],
      "metadata": {
        "id": "703AM_WsiA2t"
      }
    },
    {
      "cell_type": "code",
      "execution_count": 80,
      "metadata": {
        "id": "BJe9CjC2J-9f"
      },
      "outputs": [],
      "source": [
        "import math\n",
        "from collections import Counter"
      ]
    },
    {
      "cell_type": "markdown",
      "source": [],
      "metadata": {
        "id": "RO3p6EiWk07_"
      }
    },
    {
      "cell_type": "markdown",
      "source": [
        "# Training Set\n",
        "#### Lecture location decision is based on the Weather conditions"
      ],
      "metadata": {
        "id": "oCucCQbvk2Uv"
      }
    },
    {
      "cell_type": "code",
      "source": [
        "lecture_data = [\n",
        "    {\"weather\": \"sunny\", \"temperature\": \"hot\", \"humidity\": \"high\", \"wind\": \"weak\", \"lecture_location\": \"in-campus\"},\n",
        "    {\"weather\": \"sunny\", \"temperature\": \"hot\", \"humidity\": \"high\", \"wind\": \"normal\", \"lecture_location\": \"in-campus\"},\n",
        "    {\"weather\": \"overcast\", \"temperature\": \"hot\", \"humidity\": \"high\", \"wind\": \"weak\", \"lecture_location\": \"in-campus\"},\n",
        "    {\"weather\": \"rain\", \"temperature\": \"normal\", \"humidity\": \"high\", \"wind\": \"weak\", \"lecture_location\": \"online\"},\n",
        "    {\"weather\": \"rain\", \"temperature\": \"cold\", \"humidity\": \"normal\", \"wind\": \"weak\", \"lecture_location\": \"online\"},\n",
        "    {\"weather\": \"rain\", \"temperature\": \"cold\", \"humidity\": \"normal\", \"wind\": \"normal\", \"lecture_location\": \"online\"},\n",
        "    {\"weather\": \"overcast\", \"temperature\": \"cold\", \"humidity\": \"normal\", \"wind\": \"normal\", \"lecture_location\": \"in-campus\"},\n",
        "    {\"weather\": \"sunny\", \"temperature\": \"normal\", \"humidity\": \"high\", \"wind\": \"weak\", \"lecture_location\": \"in-campus\"},\n",
        "    {\"weather\": \"sunny\", \"temperature\": \"cold\", \"humidity\": \"normal\", \"wind\": \"weak\", \"lecture_location\": \"in-campus\"},\n",
        "    {\"weather\": \"rain\", \"temperature\": \"normal\", \"humidity\": \"normal\", \"wind\": \"weak\", \"lecture_location\": \"online\"},\n",
        "    {\"weather\": \"sunny\", \"temperature\": \"normal\", \"humidity\": \"normal\", \"wind\": \"normal\", \"lecture_location\": \"in-campus\"},\n",
        "    {\"weather\": \"overcast\", \"temperature\": \"normal\", \"humidity\": \"high\", \"wind\": \"normal\", \"lecture_location\": \"in-campus\"},\n",
        "    {\"weather\": \"overcast\", \"temperature\": \"hot\", \"humidity\": \"normal\", \"wind\": \"weak\", \"lecture_location\": \"in-campus\"},\n",
        "    {\"weather\": \"rain\", \"temperature\": \"normal\", \"humidity\": \"high\", \"wind\": \"normal\", \"lecture_location\": \"online\"},\n",
        "    {\"weather\": \"sunny\", \"temperature\": \"normal\", \"humidity\": \"low\", \"wind\": \"high\", \"lecture_location\": \"online\"},\n",
        "    {\"weather\": \"overcast\", \"temperature\": \"hot\", \"humidity\": \"low\", \"wind\": \"high\", \"lecture_location\": \"online\"},\n",
        "    {\"weather\": \"rain\", \"temperature\": \"cold\", \"humidity\": \"high\", \"wind\": \"high\", \"lecture_location\": \"online\"},\n",
        "]"
      ],
      "metadata": {
        "id": "ytAX-r4hMZ6m"
      },
      "execution_count": 81,
      "outputs": []
    },
    {
      "cell_type": "markdown",
      "source": [
        "# dt_learning function based on the given Algorithm (4)"
      ],
      "metadata": {
        "id": "HlNfiKL7sCnz"
      }
    },
    {
      "cell_type": "markdown",
      "source": [
        "#### It builds the decision tree based on the lecture_data"
      ],
      "metadata": {
        "id": "0MH9tPe2tVue"
      }
    },
    {
      "cell_type": "code",
      "source": [
        "def dt_learning(examples, attributes, parent_examples=None):\n",
        "    if not examples:\n",
        "        return most_common_class(parent_examples)\n",
        "    elif all_same_class(examples):\n",
        "        return examples[0][\"lecture_location\"]\n",
        "    elif not attributes:\n",
        "        return most_common_class(examples)\n",
        "    else:\n",
        "        best_feature = find_best_split(attributes, examples)\n",
        "        tree = {\"feature\": best_feature, \"branches\": {}}\n",
        "\n",
        "        # Creating the branch for each best_feature\n",
        "        for value in set(example[best_feature] for example in examples):\n",
        "            matching_examples = [e for e in examples if e[best_feature] == value]\n",
        "            if matching_examples:\n",
        "                subtree = dt_learning(\n",
        "                    matching_examples, attributes - {best_feature}, examples\n",
        "                )\n",
        "                tree[\"branches\"][value] = subtree\n",
        "            else:\n",
        "                tree[\"branches\"][value] = most_common_class(parent_examples)\n",
        "        return tree"
      ],
      "metadata": {
        "id": "ACyUiL6ZOdgB"
      },
      "execution_count": 82,
      "outputs": []
    },
    {
      "cell_type": "markdown",
      "source": [
        "# Most common class checker\n",
        "#### returns the most repeated class from examples\n"
      ],
      "metadata": {
        "id": "tbrKVRkNuUOi"
      }
    },
    {
      "cell_type": "code",
      "source": [
        "def most_common_class(examples):\n",
        "    class_counts = Counter(example[\"lecture_location\"] for example in examples)\n",
        "    return class_counts.most_common(1)[0][0]\n"
      ],
      "metadata": {
        "id": "SeYgFLysOidY"
      },
      "execution_count": 83,
      "outputs": []
    },
    {
      "cell_type": "markdown",
      "source": [
        "# If all class are same checker\n",
        "#### returns true/false if examples has classification same/not respectively"
      ],
      "metadata": {
        "id": "bb6V-ZWLupqx"
      }
    },
    {
      "cell_type": "code",
      "source": [
        "def all_same_class(examples):\n",
        "    return all(e[\"lecture_location\"] == examples[0][\"lecture_location\"] for e in examples)\n"
      ],
      "metadata": {
        "id": "VP2ullEDOkQR"
      },
      "execution_count": 84,
      "outputs": []
    },
    {
      "cell_type": "markdown",
      "source": [
        "# Entropy Calculator\n",
        "#### returns the entropy for the given examples"
      ],
      "metadata": {
        "id": "nxq4o6Wz1mRU"
      }
    },
    {
      "cell_type": "code",
      "source": [
        "def entropy(examples):\n",
        "    class_counts = Counter(example[\"lecture_location\"] for example in examples)\n",
        "    probs = [count / len(examples) for count in class_counts.values()]\n",
        "    return -sum(p * math.log2(p) for p in probs if p > 0)\n"
      ],
      "metadata": {
        "id": "4Bh4QcfAOm2A"
      },
      "execution_count": 85,
      "outputs": []
    },
    {
      "cell_type": "markdown",
      "source": [
        "# Information gain function\n",
        "#### It calculates the information gain obtained by splitting attributes"
      ],
      "metadata": {
        "id": "1q7GA5K92FjA"
      }
    },
    {
      "cell_type": "code",
      "source": [
        "def information_gain(feature, examples):\n",
        "    total_entropy = entropy(examples)\n",
        "    value_entropies = [entropy([e for e in examples if e[feature] == v]) for v in set(e[feature] for e in examples)]\n",
        "    weighted_avg_entropy = sum(\n",
        "        len([e for e in examples if e[feature] == v]) / len(examples) * entropy\n",
        "        for v, entropy in zip(set(e[feature] for e in examples), value_entropies)\n",
        "    )\n",
        "    return total_entropy - weighted_avg_entropy\n"
      ],
      "metadata": {
        "id": "w_bJr0LGOoik"
      },
      "execution_count": 86,
      "outputs": []
    },
    {
      "cell_type": "markdown",
      "source": [
        "# Finding the best split\n",
        "### it returns the feature with the maxximum information gain"
      ],
      "metadata": {
        "id": "i1wiXUAw3vyS"
      }
    },
    {
      "cell_type": "code",
      "source": [
        "def find_best_split(attributes, examples):\n",
        "    return max(attributes, key=lambda f: information_gain(f, examples))\n"
      ],
      "metadata": {
        "id": "8wjeYn86OqJ8"
      },
      "execution_count": 87,
      "outputs": []
    },
    {
      "cell_type": "markdown",
      "source": [
        "# Calssifier for the decision tree\n",
        "#### It classifies a new instace from the user input which uses the decision tree and returns the location"
      ],
      "metadata": {
        "id": "xs0iPSQC9gXB"
      }
    },
    {
      "cell_type": "code",
      "source": [
        "def classify_lecture(tree, instance):\n",
        "    if not isinstance(tree, dict):\n",
        "        return tree\n",
        "    feature = tree[\"feature\"]\n",
        "    value = instance[feature]\n",
        "    subtree = tree[\"branches\"].get(value, None)\n",
        "\n",
        "    # If value doesn't exist in the tree, use the most common class of the parent\n",
        "    if subtree is None:\n",
        "        return most_common_class(lecture_data)\n",
        "    else:\n",
        "        return classify_lecture(subtree, instance)"
      ],
      "metadata": {
        "id": "YlZ0GyPW9S8w"
      },
      "execution_count": 88,
      "outputs": []
    },
    {
      "cell_type": "markdown",
      "source": [
        "# Decision tree output\n",
        "\n"
      ],
      "metadata": {
        "id": "EY4f8Zqh4V7t"
      }
    },
    {
      "cell_type": "code",
      "source": [
        "# attributes\n",
        "attributes = {\"weather\", \"temperature\", \"humidity\", \"wind\"}\n",
        "\n",
        "# Decision tree output\n",
        "decision_tree = dt_learning(lecture_data, attributes)\n",
        "print (\"\\n\")\n",
        "print(decision_tree)"
      ],
      "metadata": {
        "colab": {
          "base_uri": "https://localhost:8080/"
        },
        "id": "4GLD12a-KS_x",
        "outputId": "d1377836-f657-44e9-d05f-4517e1b67f94"
      },
      "execution_count": 89,
      "outputs": [
        {
          "output_type": "stream",
          "name": "stdout",
          "text": [
            "\n",
            "\n",
            "{'feature': 'weather', 'branches': {'sunny': {'feature': 'humidity', 'branches': {'normal': 'in-campus', 'high': 'in-campus', 'low': 'online'}}, 'rain': 'online', 'overcast': {'feature': 'humidity', 'branches': {'normal': 'in-campus', 'high': 'in-campus', 'low': 'online'}}}}\n"
          ]
        }
      ]
    },
    {
      "cell_type": "markdown",
      "source": [
        "# Input and Output\n",
        "#### creates a new instance for the userinput the calls the classifier function which returns the location of lecture (online / in-campus)"
      ],
      "metadata": {
        "id": "gpV7SbOfB9WC"
      }
    },
    {
      "cell_type": "markdown",
      "source": [
        "###Test 1"
      ],
      "metadata": {
        "id": "_BApBDMPCmN-"
      }
    },
    {
      "cell_type": "code",
      "source": [
        "#User input\n",
        "weather = input(\"Enter weather (sunny, overcast, rain): \")\n",
        "temperature = input(\"Enter temperature (hot, normal, cold): \")\n",
        "humidity = input(\"Enter humidity (high, normal, low): \")\n",
        "wind = input(\"Enter wind (weak, normal, high): \")\n",
        "\n",
        "new_instance = {\n",
        "    \"weather\": weather,\n",
        "    \"temperature\": temperature,\n",
        "    \"humidity\": humidity,\n",
        "    \"wind\": wind,\n",
        "}\n",
        "# Classifying the lecture location\n",
        "location = classify_lecture(decision_tree, new_instance)\n",
        "print(\"The lecture will be held:\", location)"
      ],
      "metadata": {
        "colab": {
          "base_uri": "https://localhost:8080/"
        },
        "id": "y6OCjYbE8CkM",
        "outputId": "0f8c7b2b-a49a-413e-8fb0-4f5868f81d8c"
      },
      "execution_count": 90,
      "outputs": [
        {
          "output_type": "stream",
          "name": "stdout",
          "text": [
            "Enter weather (sunny, overcast, rain): sunny\n",
            "Enter temperature (hot, normal, cold): hot\n",
            "Enter humidity (high, normal, low): high\n",
            "Enter wind (weak, normal, high): weak\n",
            "The lecture will be held: in-campus\n"
          ]
        }
      ]
    },
    {
      "cell_type": "markdown",
      "source": [
        "### Test 2"
      ],
      "metadata": {
        "id": "CVZ56RS2C5su"
      }
    },
    {
      "cell_type": "code",
      "source": [
        "# Get user input\n",
        "weather = input(\"Enter weather (sunny, overcast, rain): \")\n",
        "temperature = input(\"Enter temperature (hot, normal, cold): \")\n",
        "humidity = input(\"Enter humidity (high, normal, low): \")\n",
        "wind = input(\"Enter wind (weak, normal, high): \")\n",
        "\n",
        "new_instance = {\n",
        "    \"weather\": weather,\n",
        "    \"temperature\": temperature,\n",
        "    \"humidity\": humidity,\n",
        "    \"wind\": wind,\n",
        "}\n",
        "# Classify the lecture location\n",
        "location = classify_lecture(decision_tree, new_instance)\n",
        "print(\"The lecture will be held:\", location)"
      ],
      "metadata": {
        "colab": {
          "base_uri": "https://localhost:8080/"
        },
        "id": "RD7zboOVBDgm",
        "outputId": "538119c9-1ee0-4b31-d696-cf6774d91d10"
      },
      "execution_count": 91,
      "outputs": [
        {
          "output_type": "stream",
          "name": "stdout",
          "text": [
            "Enter weather (sunny, overcast, rain): rain\n",
            "Enter temperature (hot, normal, cold): normal\n",
            "Enter humidity (high, normal, low): high\n",
            "Enter wind (weak, normal, high): weak\n",
            "The lecture will be held: online\n"
          ]
        }
      ]
    },
    {
      "cell_type": "markdown",
      "source": [
        "### Test 3"
      ],
      "metadata": {
        "id": "VWNT-hpTDHtk"
      }
    },
    {
      "cell_type": "code",
      "source": [
        "# Get user input\n",
        "weather = input(\"Enter weather (sunny, overcast, rain): \")\n",
        "temperature = input(\"Enter temperature (hot, normal, cold): \")\n",
        "humidity = input(\"Enter humidity (high, normal, low): \")\n",
        "wind = input(\"Enter wind (weak, normal, high): \")\n",
        "\n",
        "new_instance = {\n",
        "    \"weather\": weather,\n",
        "    \"temperature\": temperature,\n",
        "    \"humidity\": humidity,\n",
        "    \"wind\": wind,\n",
        "}\n",
        "# Classify the lecture location\n",
        "location = classify_lecture(decision_tree, new_instance)\n",
        "print(\"The lecture will be held:\", location)"
      ],
      "metadata": {
        "colab": {
          "base_uri": "https://localhost:8080/"
        },
        "id": "gEcJIJ_hC_M2",
        "outputId": "f8b78615-3b3f-42d7-da8c-a817b2d62787"
      },
      "execution_count": 94,
      "outputs": [
        {
          "output_type": "stream",
          "name": "stdout",
          "text": [
            "Enter weather (sunny, overcast, rain): overcast\n",
            "Enter temperature (hot, normal, cold): cold\n",
            "Enter humidity (high, normal, low): low\n",
            "Enter wind (weak, normal, high): high\n",
            "The lecture will be held: online\n"
          ]
        }
      ]
    },
    {
      "cell_type": "markdown",
      "source": [
        "# Visualization"
      ],
      "metadata": {
        "id": "ZErg5GgRYb2J"
      }
    },
    {
      "cell_type": "markdown",
      "source": [
        "![Visualization.png](data:image/png;base64,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)"
      ],
      "metadata": {
        "id": "yQ2NeVBoZcxE"
      }
    },
    {
      "cell_type": "code",
      "source": [],
      "metadata": {
        "id": "aa1W_lNqZi1X"
      },
      "execution_count": null,
      "outputs": []
    }
  ]
}